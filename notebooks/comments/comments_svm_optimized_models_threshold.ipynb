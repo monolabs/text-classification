{
 "cells": [
  {
   "cell_type": "code",
   "execution_count": 1,
   "id": "4082b83c",
   "metadata": {},
   "outputs": [],
   "source": [
    "import os\n",
    "os.chdir(os.getcwd() + '/../../')"
   ]
  },
  {
   "cell_type": "code",
   "execution_count": 2,
   "id": "c186f53a",
   "metadata": {},
   "outputs": [
    {
     "name": "stderr",
     "output_type": "stream",
     "text": [
      "[nltk_data] Downloading package averaged_perceptron_tagger to\n",
      "[nltk_data]     C:\\Users\\PendragonS\\AppData\\Roaming\\nltk_data...\n",
      "[nltk_data]   Package averaged_perceptron_tagger is already up-to-\n",
      "[nltk_data]       date!\n",
      "[nltk_data] Downloading package punkt to\n",
      "[nltk_data]     C:\\Users\\PendragonS\\AppData\\Roaming\\nltk_data...\n",
      "[nltk_data]   Package punkt is already up-to-date!\n"
     ]
    }
   ],
   "source": [
    "import pandas as pd\n",
    "import numpy as np\n",
    "import re\n",
    "\n",
    "from sklearn.model_selection import train_test_split\n",
    "from sklearn.feature_extraction.text import TfidfVectorizer\n",
    "from sklearn.linear_model import LogisticRegression\n",
    "from sklearn.svm import LinearSVC, SVC\n",
    "from sklearn.metrics import confusion_matrix\n",
    "from sklearn.decomposition import PCA\n",
    "\n",
    "import matplotlib.pyplot as plt\n",
    "\n",
    "from scripts.utils import *"
   ]
  },
  {
   "cell_type": "code",
   "execution_count": 4,
   "id": "0cca431c",
   "metadata": {},
   "outputs": [
    {
     "data": {
      "text/html": [
       "<div>\n",
       "<style scoped>\n",
       "    .dataframe tbody tr th:only-of-type {\n",
       "        vertical-align: middle;\n",
       "    }\n",
       "\n",
       "    .dataframe tbody tr th {\n",
       "        vertical-align: top;\n",
       "    }\n",
       "\n",
       "    .dataframe thead th {\n",
       "        text-align: right;\n",
       "    }\n",
       "</style>\n",
       "<table border=\"1\" class=\"dataframe\">\n",
       "  <thead>\n",
       "    <tr style=\"text-align: right;\">\n",
       "      <th></th>\n",
       "      <th>toxic</th>\n",
       "      <th>comment_text</th>\n",
       "    </tr>\n",
       "  </thead>\n",
       "  <tbody>\n",
       "    <tr>\n",
       "      <th>0</th>\n",
       "      <td>0</td>\n",
       "      <td>explanation why the edits make under my userna...</td>\n",
       "    </tr>\n",
       "    <tr>\n",
       "      <th>1</th>\n",
       "      <td>0</td>\n",
       "      <td>d'aww ! he match this background colour i be s...</td>\n",
       "    </tr>\n",
       "    <tr>\n",
       "      <th>2</th>\n",
       "      <td>0</td>\n",
       "      <td>hey man , i be really not try to edit war . it...</td>\n",
       "    </tr>\n",
       "    <tr>\n",
       "      <th>3</th>\n",
       "      <td>0</td>\n",
       "      <td>`` more i can not make any real suggestion on ...</td>\n",
       "    </tr>\n",
       "    <tr>\n",
       "      <th>4</th>\n",
       "      <td>0</td>\n",
       "      <td>you , sir , be my hero . any chance you rememb...</td>\n",
       "    </tr>\n",
       "  </tbody>\n",
       "</table>\n",
       "</div>"
      ],
      "text/plain": [
       "   toxic                                       comment_text\n",
       "0      0  explanation why the edits make under my userna...\n",
       "1      0  d'aww ! he match this background colour i be s...\n",
       "2      0  hey man , i be really not try to edit war . it...\n",
       "3      0  `` more i can not make any real suggestion on ...\n",
       "4      0  you , sir , be my hero . any chance you rememb..."
      ]
     },
     "execution_count": 4,
     "metadata": {},
     "output_type": "execute_result"
    }
   ],
   "source": [
    "comments = pd.read_csv('data/comments/preprocessed_comments.csv', index_col=0)\n",
    "comments = comments.dropna()\n",
    "comments.head()"
   ]
  },
  {
   "cell_type": "markdown",
   "id": "af7352d1",
   "metadata": {},
   "source": [
    "# 1. TF-IDF"
   ]
  },
  {
   "cell_type": "code",
   "execution_count": 5,
   "id": "0e449937",
   "metadata": {},
   "outputs": [],
   "source": [
    "# vectorization\n",
    "vectorizer = TfidfVectorizer(stop_words='english', max_features=50000)\n",
    "X = vectorizer.fit_transform(comments['comment_text'])\n",
    "y = comments['toxic']\n",
    "\n",
    "# train val, test split\n",
    "X_temp, X_test, y_temp, y_test = train_test_split(X, y, test_size=0.2, stratify=y, random_state=0)\n",
    "X_train, X_val, y_train, y_val = train_test_split(X_temp, y_temp, test_size=0.2, stratify=y_temp, random_state=0)"
   ]
  },
  {
   "cell_type": "code",
   "execution_count": 6,
   "id": "136c9429",
   "metadata": {},
   "outputs": [
    {
     "name": "stdout",
     "output_type": "stream",
     "text": [
      "179429\n"
     ]
    }
   ],
   "source": [
    "# total numbe of features\n",
    "print(len(vectorizer.get_feature_names()))"
   ]
  },
  {
   "cell_type": "markdown",
   "id": "dd6d2a06",
   "metadata": {},
   "source": [
    "## 1.1. RBF-SVM"
   ]
  },
  {
   "cell_type": "code",
   "execution_count": null,
   "id": "bed08a23",
   "metadata": {},
   "outputs": [
    {
     "name": "stdout",
     "output_type": "stream",
     "text": [
      "[LibSVM]"
     ]
    }
   ],
   "source": [
    "model = SVC(kernel='rbf', \n",
    "            max_iter=100000, \n",
    "            class_weight='balanced', \n",
    "            C=0.2307364273173342,\n",
    "            probability=True,\n",
    "            verbose=True).fit(X_train, y_train)\n",
    "probs = model.predict_proba(X_val)"
   ]
  },
  {
   "cell_type": "code",
   "execution_count": null,
   "id": "13d5e7dc",
   "metadata": {},
   "outputs": [],
   "source": [
    "toxic_freq_list = []\n",
    "thresholds = np.linspace(0.5, 1, 1000)\n",
    "\n",
    "for t in thresholds:\n",
    "    preds = np.zeros(len(y_val))\n",
    "    preds[probs[:, 1] >= t] = 1\n",
    "    toxic_freq_list.append(preds.sum())"
   ]
  },
  {
   "cell_type": "code",
   "execution_count": null,
   "id": "4ea2720b",
   "metadata": {},
   "outputs": [],
   "source": [
    "plt.plot(thresholds, toxic_freq_list, label='prediction')\n",
    "plt.xlabel('threshold')\n",
    "plt.ylabel('number of toxic comments')\n",
    "plt.hlines(y_val.sum(), 0.5, 1, color='k', linestyles='dotted', label='actual')\n",
    "plt.legend(loc='lower left')"
   ]
  },
  {
   "cell_type": "code",
   "execution_count": null,
   "id": "1b79c7b8",
   "metadata": {},
   "outputs": [],
   "source": [
    "index = np.argwhere(np.array(toxic_freq_list) <= y_val.sum().item()).min()\n",
    "index"
   ]
  },
  {
   "cell_type": "code",
   "execution_count": null,
   "id": "58316fae",
   "metadata": {},
   "outputs": [],
   "source": [
    "thresholds[index]"
   ]
  },
  {
   "cell_type": "code",
   "execution_count": null,
   "id": "ea8a2418",
   "metadata": {},
   "outputs": [],
   "source": [
    "toxic_freq_list[index]"
   ]
  },
  {
   "cell_type": "code",
   "execution_count": null,
   "id": "255193f8",
   "metadata": {},
   "outputs": [],
   "source": [
    "preds = np.zeros(len(y_val))\n",
    "preds[probs[:, 1] >= thresholds[index]] = 1\n",
    "get_evaluation_df(y_val, preds, 'logistic regression')"
   ]
  },
  {
   "cell_type": "code",
   "execution_count": null,
   "id": "71939238",
   "metadata": {},
   "outputs": [],
   "source": [
    "preds = np.zeros(len(y_val))\n",
    "preds[probs[:, 1] >= 0.5] = 1\n",
    "get_evaluation_df(y_val, preds, 'logistic regression')"
   ]
  },
  {
   "cell_type": "code",
   "execution_count": null,
   "id": "ceb8414a",
   "metadata": {},
   "outputs": [],
   "source": [
    "# maximizing f1-score\n",
    "\n",
    "thresholds = np.linspace(0.5, 1, 1000)\n",
    "f1_scores = []\n",
    "for t in thresholds:\n",
    "    preds = np.zeros(len(y_val))\n",
    "    preds[probs[:, 1] >= t] = 1\n",
    "    f1 = f1_score(y_val, preds)\n",
    "    f1_scores.append(f1)\n",
    "    \n",
    "plt.plot(thresholds, f1_scores)\n",
    "plt.xlabel('threshold')\n",
    "plt.ylabel('f1-score')"
   ]
  },
  {
   "cell_type": "code",
   "execution_count": null,
   "id": "fb88b43c",
   "metadata": {},
   "outputs": [],
   "source": [
    "# threshold for max f1\n",
    "\n",
    "index = np.argmax(np.array(f1_scores))\n",
    "print(f\"threshold for max f1-score = {thresholds[index]}\")"
   ]
  },
  {
   "cell_type": "code",
   "execution_count": null,
   "id": "4b78fdfb",
   "metadata": {},
   "outputs": [],
   "source": [
    "preds = np.zeros(len(y_val))\n",
    "preds[probs[:, 1] >= thresholds[index]] = 1\n",
    "get_evaluation_df(y_val, preds, 'logistic regression')"
   ]
  }
 ],
 "metadata": {
  "kernelspec": {
   "display_name": "Python (final)",
   "language": "python",
   "name": "final"
  },
  "language_info": {
   "codemirror_mode": {
    "name": "ipython",
    "version": 3
   },
   "file_extension": ".py",
   "mimetype": "text/x-python",
   "name": "python",
   "nbconvert_exporter": "python",
   "pygments_lexer": "ipython3",
   "version": "3.9.5"
  }
 },
 "nbformat": 4,
 "nbformat_minor": 5
}
