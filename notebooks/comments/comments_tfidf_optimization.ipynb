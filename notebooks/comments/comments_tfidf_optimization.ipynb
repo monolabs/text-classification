{
 "cells": [
  {
   "cell_type": "code",
   "execution_count": 1,
   "id": "4082b83c",
   "metadata": {},
   "outputs": [],
   "source": [
    "import os\n",
    "os.chdir(os.getcwd() + '/../../')"
   ]
  },
  {
   "cell_type": "code",
   "execution_count": 2,
   "id": "c186f53a",
   "metadata": {},
   "outputs": [
    {
     "name": "stderr",
     "output_type": "stream",
     "text": [
      "[nltk_data] Downloading package averaged_perceptron_tagger to\n",
      "[nltk_data]     C:\\Users\\PendragonS\\AppData\\Roaming\\nltk_data...\n",
      "[nltk_data]   Package averaged_perceptron_tagger is already up-to-\n",
      "[nltk_data]       date!\n",
      "[nltk_data] Downloading package punkt to\n",
      "[nltk_data]     C:\\Users\\PendragonS\\AppData\\Roaming\\nltk_data...\n",
      "[nltk_data]   Package punkt is already up-to-date!\n"
     ]
    }
   ],
   "source": [
    "import pandas as pd\n",
    "import numpy as np\n",
    "import re\n",
    "\n",
    "from sklearn.model_selection import train_test_split\n",
    "from sklearn.feature_extraction.text import TfidfVectorizer\n",
    "from sklearn.linear_model import LogisticRegression\n",
    "from sklearn.svm import LinearSVC, SVC\n",
    "from sklearn.metrics import confusion_matrix\n",
    "\n",
    "from scripts.utils import *"
   ]
  },
  {
   "cell_type": "code",
   "execution_count": 3,
   "id": "0cca431c",
   "metadata": {},
   "outputs": [
    {
     "data": {
      "text/html": [
       "<div>\n",
       "<style scoped>\n",
       "    .dataframe tbody tr th:only-of-type {\n",
       "        vertical-align: middle;\n",
       "    }\n",
       "\n",
       "    .dataframe tbody tr th {\n",
       "        vertical-align: top;\n",
       "    }\n",
       "\n",
       "    .dataframe thead th {\n",
       "        text-align: right;\n",
       "    }\n",
       "</style>\n",
       "<table border=\"1\" class=\"dataframe\">\n",
       "  <thead>\n",
       "    <tr style=\"text-align: right;\">\n",
       "      <th></th>\n",
       "      <th>toxic</th>\n",
       "      <th>comment_text</th>\n",
       "    </tr>\n",
       "  </thead>\n",
       "  <tbody>\n",
       "    <tr>\n",
       "      <th>0</th>\n",
       "      <td>0</td>\n",
       "      <td>explanation why the edits make under my userna...</td>\n",
       "    </tr>\n",
       "    <tr>\n",
       "      <th>1</th>\n",
       "      <td>0</td>\n",
       "      <td>d'aww ! he match this background colour i be s...</td>\n",
       "    </tr>\n",
       "    <tr>\n",
       "      <th>2</th>\n",
       "      <td>0</td>\n",
       "      <td>hey man , i be really not try to edit war . it...</td>\n",
       "    </tr>\n",
       "    <tr>\n",
       "      <th>3</th>\n",
       "      <td>0</td>\n",
       "      <td>`` more i can not make any real suggestion on ...</td>\n",
       "    </tr>\n",
       "    <tr>\n",
       "      <th>4</th>\n",
       "      <td>0</td>\n",
       "      <td>you , sir , be my hero . any chance you rememb...</td>\n",
       "    </tr>\n",
       "  </tbody>\n",
       "</table>\n",
       "</div>"
      ],
      "text/plain": [
       "   toxic                                       comment_text\n",
       "0      0  explanation why the edits make under my userna...\n",
       "1      0  d'aww ! he match this background colour i be s...\n",
       "2      0  hey man , i be really not try to edit war . it...\n",
       "3      0  `` more i can not make any real suggestion on ...\n",
       "4      0  you , sir , be my hero . any chance you rememb..."
      ]
     },
     "execution_count": 3,
     "metadata": {},
     "output_type": "execute_result"
    }
   ],
   "source": [
    "comments = pd.read_csv('data/comments/preprocessed_comments.csv', index_col=0)\n",
    "comments = comments.dropna()\n",
    "comments.head()"
   ]
  },
  {
   "cell_type": "markdown",
   "id": "af7352d1",
   "metadata": {},
   "source": [
    "# 1. TF-IDF"
   ]
  },
  {
   "cell_type": "markdown",
   "id": "936ca127",
   "metadata": {},
   "source": [
    "## 1.1. with stop words"
   ]
  },
  {
   "cell_type": "code",
   "execution_count": 4,
   "id": "0e449937",
   "metadata": {},
   "outputs": [],
   "source": [
    "# vectorization\n",
    "vectorizer = TfidfVectorizer(stop_words='english')\n",
    "X = vectorizer.fit_transform(comments['comment_text'])\n",
    "y = comments['toxic']\n",
    "\n",
    "# train val, test split\n",
    "X_temp, X_test, y_temp, y_test = train_test_split(X, y, test_size=0.2, stratify=y, random_state=0)\n",
    "X_train, X_val, y_train, y_val = train_test_split(X_temp, y_temp, test_size=0.2, stratify=y_temp, random_state=0)"
   ]
  },
  {
   "cell_type": "code",
   "execution_count": 5,
   "id": "b6f26e93",
   "metadata": {},
   "outputs": [
    {
     "name": "stdout",
     "output_type": "stream",
     "text": [
      "179429\n"
     ]
    }
   ],
   "source": [
    "# total number of features\n",
    "print(len(vectorizer.get_feature_names()))"
   ]
  },
  {
   "cell_type": "markdown",
   "id": "dd6d2a06",
   "metadata": {},
   "source": [
    "### 1.1.1 Logistic regression"
   ]
  },
  {
   "cell_type": "code",
   "execution_count": 6,
   "id": "bed08a23",
   "metadata": {},
   "outputs": [],
   "source": [
    "model = LogisticRegression(max_iter=10000, class_weight='balanced').fit(X_train, y_train)\n",
    "y_hat = model.predict(X_val)"
   ]
  },
  {
   "cell_type": "code",
   "execution_count": 7,
   "id": "af98d59a",
   "metadata": {
    "scrolled": true
   },
   "outputs": [
    {
     "data": {
      "text/html": [
       "<div>\n",
       "<style scoped>\n",
       "    .dataframe tbody tr th:only-of-type {\n",
       "        vertical-align: middle;\n",
       "    }\n",
       "\n",
       "    .dataframe tbody tr th {\n",
       "        vertical-align: top;\n",
       "    }\n",
       "\n",
       "    .dataframe thead th {\n",
       "        text-align: right;\n",
       "    }\n",
       "</style>\n",
       "<table border=\"1\" class=\"dataframe\">\n",
       "  <thead>\n",
       "    <tr style=\"text-align: right;\">\n",
       "      <th></th>\n",
       "      <th>accuracy</th>\n",
       "      <th>precision</th>\n",
       "      <th>recall</th>\n",
       "      <th>f1</th>\n",
       "      <th>roc_auc</th>\n",
       "    </tr>\n",
       "  </thead>\n",
       "  <tbody>\n",
       "    <tr>\n",
       "      <th>logistic regression</th>\n",
       "      <td>0.943365</td>\n",
       "      <td>0.661504</td>\n",
       "      <td>0.837761</td>\n",
       "      <td>0.739272</td>\n",
       "      <td>0.89616</td>\n",
       "    </tr>\n",
       "  </tbody>\n",
       "</table>\n",
       "</div>"
      ],
      "text/plain": [
       "                     accuracy  precision    recall        f1  roc_auc\n",
       "logistic regression  0.943365   0.661504  0.837761  0.739272  0.89616"
      ]
     },
     "execution_count": 7,
     "metadata": {},
     "output_type": "execute_result"
    }
   ],
   "source": [
    "get_evaluation_df(y_val, y_hat, 'logistic regression')"
   ]
  },
  {
   "cell_type": "markdown",
   "id": "03ecbb92",
   "metadata": {},
   "source": [
    "### 1.1.2. Linear SVM"
   ]
  },
  {
   "cell_type": "code",
   "execution_count": 8,
   "id": "cdad6f65",
   "metadata": {},
   "outputs": [],
   "source": [
    "model = LinearSVC(max_iter=50000, class_weight='balanced').fit(X_train, y_train)\n",
    "y_hat = model.predict(X_val)"
   ]
  },
  {
   "cell_type": "code",
   "execution_count": 9,
   "id": "f62d57c9",
   "metadata": {},
   "outputs": [
    {
     "data": {
      "text/html": [
       "<div>\n",
       "<style scoped>\n",
       "    .dataframe tbody tr th:only-of-type {\n",
       "        vertical-align: middle;\n",
       "    }\n",
       "\n",
       "    .dataframe tbody tr th {\n",
       "        vertical-align: top;\n",
       "    }\n",
       "\n",
       "    .dataframe thead th {\n",
       "        text-align: right;\n",
       "    }\n",
       "</style>\n",
       "<table border=\"1\" class=\"dataframe\">\n",
       "  <thead>\n",
       "    <tr style=\"text-align: right;\">\n",
       "      <th></th>\n",
       "      <th>accuracy</th>\n",
       "      <th>precision</th>\n",
       "      <th>recall</th>\n",
       "      <th>f1</th>\n",
       "      <th>roc_auc</th>\n",
       "    </tr>\n",
       "  </thead>\n",
       "  <tbody>\n",
       "    <tr>\n",
       "      <th>linear SVM</th>\n",
       "      <td>0.947282</td>\n",
       "      <td>0.696397</td>\n",
       "      <td>0.797711</td>\n",
       "      <td>0.743619</td>\n",
       "      <td>0.880424</td>\n",
       "    </tr>\n",
       "  </tbody>\n",
       "</table>\n",
       "</div>"
      ],
      "text/plain": [
       "            accuracy  precision    recall        f1   roc_auc\n",
       "linear SVM  0.947282   0.696397  0.797711  0.743619  0.880424"
      ]
     },
     "execution_count": 9,
     "metadata": {},
     "output_type": "execute_result"
    }
   ],
   "source": [
    "get_evaluation_df(y_val, y_hat, 'linear SVM')"
   ]
  },
  {
   "cell_type": "markdown",
   "id": "a99500b8",
   "metadata": {},
   "source": [
    "## 1.2. Unigram + bigram model"
   ]
  },
  {
   "cell_type": "code",
   "execution_count": 10,
   "id": "003023d7",
   "metadata": {},
   "outputs": [],
   "source": [
    "# vectorization\n",
    "vectorizer = TfidfVectorizer(stop_words='english', ngram_range=(1, 2))\n",
    "X = vectorizer.fit_transform(comments['comment_text'])\n",
    "y = comments['toxic']\n",
    "\n",
    "# train val, test split\n",
    "X_temp, X_test, y_temp, y_test = train_test_split(X, y, test_size=0.2, stratify=y, random_state=0)\n",
    "X_train, X_val, y_train, y_val = train_test_split(X_temp, y_temp, test_size=0.2, stratify=y_temp, random_state=0)"
   ]
  },
  {
   "cell_type": "code",
   "execution_count": 11,
   "id": "333a5c16",
   "metadata": {},
   "outputs": [
    {
     "name": "stdout",
     "output_type": "stream",
     "text": [
      "2470034\n"
     ]
    }
   ],
   "source": [
    "# total number of features\n",
    "print(len(vectorizer.get_feature_names()))"
   ]
  },
  {
   "cell_type": "markdown",
   "id": "d3caa9e0",
   "metadata": {},
   "source": [
    "### 1.2.1. Logistic Regression"
   ]
  },
  {
   "cell_type": "code",
   "execution_count": 12,
   "id": "e58d0421",
   "metadata": {},
   "outputs": [],
   "source": [
    "model = LogisticRegression(max_iter=10000, class_weight='balanced').fit(X_train, y_train)\n",
    "y_hat = model.predict(X_val)"
   ]
  },
  {
   "cell_type": "code",
   "execution_count": 13,
   "id": "9d868a5a",
   "metadata": {},
   "outputs": [
    {
     "data": {
      "text/html": [
       "<div>\n",
       "<style scoped>\n",
       "    .dataframe tbody tr th:only-of-type {\n",
       "        vertical-align: middle;\n",
       "    }\n",
       "\n",
       "    .dataframe tbody tr th {\n",
       "        vertical-align: top;\n",
       "    }\n",
       "\n",
       "    .dataframe thead th {\n",
       "        text-align: right;\n",
       "    }\n",
       "</style>\n",
       "<table border=\"1\" class=\"dataframe\">\n",
       "  <thead>\n",
       "    <tr style=\"text-align: right;\">\n",
       "      <th></th>\n",
       "      <th>accuracy</th>\n",
       "      <th>precision</th>\n",
       "      <th>recall</th>\n",
       "      <th>f1</th>\n",
       "      <th>roc_auc</th>\n",
       "    </tr>\n",
       "  </thead>\n",
       "  <tbody>\n",
       "    <tr>\n",
       "      <th>logistic regression</th>\n",
       "      <td>0.95159</td>\n",
       "      <td>0.729443</td>\n",
       "      <td>0.786678</td>\n",
       "      <td>0.75698</td>\n",
       "      <td>0.877874</td>\n",
       "    </tr>\n",
       "  </tbody>\n",
       "</table>\n",
       "</div>"
      ],
      "text/plain": [
       "                     accuracy  precision    recall       f1   roc_auc\n",
       "logistic regression   0.95159   0.729443  0.786678  0.75698  0.877874"
      ]
     },
     "execution_count": 13,
     "metadata": {},
     "output_type": "execute_result"
    }
   ],
   "source": [
    "get_evaluation_df(y_val, y_hat, 'logistic regression')"
   ]
  },
  {
   "cell_type": "markdown",
   "id": "402248b1",
   "metadata": {},
   "source": [
    "### 1.2.2. Linear SVM"
   ]
  },
  {
   "cell_type": "code",
   "execution_count": 14,
   "id": "9c415dd0",
   "metadata": {},
   "outputs": [],
   "source": [
    "model = LinearSVC(max_iter=50000, class_weight='balanced').fit(X_train, y_train)\n",
    "y_hat = model.predict(X_val)"
   ]
  },
  {
   "cell_type": "code",
   "execution_count": 15,
   "id": "59350846",
   "metadata": {},
   "outputs": [
    {
     "data": {
      "text/html": [
       "<div>\n",
       "<style scoped>\n",
       "    .dataframe tbody tr th:only-of-type {\n",
       "        vertical-align: middle;\n",
       "    }\n",
       "\n",
       "    .dataframe tbody tr th {\n",
       "        vertical-align: top;\n",
       "    }\n",
       "\n",
       "    .dataframe thead th {\n",
       "        text-align: right;\n",
       "    }\n",
       "</style>\n",
       "<table border=\"1\" class=\"dataframe\">\n",
       "  <thead>\n",
       "    <tr style=\"text-align: right;\">\n",
       "      <th></th>\n",
       "      <th>accuracy</th>\n",
       "      <th>precision</th>\n",
       "      <th>recall</th>\n",
       "      <th>f1</th>\n",
       "      <th>roc_auc</th>\n",
       "    </tr>\n",
       "  </thead>\n",
       "  <tbody>\n",
       "    <tr>\n",
       "      <th>linear SVM</th>\n",
       "      <td>0.959228</td>\n",
       "      <td>0.841926</td>\n",
       "      <td>0.707397</td>\n",
       "      <td>0.768821</td>\n",
       "      <td>0.846659</td>\n",
       "    </tr>\n",
       "  </tbody>\n",
       "</table>\n",
       "</div>"
      ],
      "text/plain": [
       "            accuracy  precision    recall        f1   roc_auc\n",
       "linear SVM  0.959228   0.841926  0.707397  0.768821  0.846659"
      ]
     },
     "execution_count": 15,
     "metadata": {},
     "output_type": "execute_result"
    }
   ],
   "source": [
    "get_evaluation_df(y_val, y_hat, 'linear SVM')"
   ]
  },
  {
   "cell_type": "markdown",
   "id": "778731bf",
   "metadata": {},
   "source": [
    "## 1.3. Effect of number of features"
   ]
  },
  {
   "cell_type": "markdown",
   "id": "383dfbab",
   "metadata": {},
   "source": [
    "### 1.3.1. Logistic regression"
   ]
  },
  {
   "cell_type": "code",
   "execution_count": 16,
   "id": "51d10337",
   "metadata": {},
   "outputs": [],
   "source": [
    "N = [100000, 50000, 25000, 10000, 5000]\n",
    "\n",
    "df_list = []\n",
    "for n in N:\n",
    "    \n",
    "    # vectorization\n",
    "    vectorizer = TfidfVectorizer(stop_words='english', max_features=n)\n",
    "    X = vectorizer.fit_transform(comments['comment_text'])\n",
    "    y = comments['toxic']\n",
    "\n",
    "    # train val, test split\n",
    "    X_temp, X_test, y_temp, y_test = train_test_split(X, y, test_size=0.2, stratify=y, random_state=0)\n",
    "    X_train, X_val, y_train, y_val = train_test_split(X_temp, y_temp, test_size=0.2, stratify=y_temp, random_state=0)\n",
    "    \n",
    "    # model training and evaluation\n",
    "    model = LogisticRegression(max_iter=10000, class_weight='balanced').fit(X_train, y_train)\n",
    "    y_hat = model.predict(X_val)\n",
    "    \n",
    "    df_list.append(get_evaluation_df(y_val, y_hat, f'logistic regression n={n}'))"
   ]
  },
  {
   "cell_type": "code",
   "execution_count": 17,
   "id": "c261287f",
   "metadata": {},
   "outputs": [
    {
     "data": {
      "text/html": [
       "<div>\n",
       "<style scoped>\n",
       "    .dataframe tbody tr th:only-of-type {\n",
       "        vertical-align: middle;\n",
       "    }\n",
       "\n",
       "    .dataframe tbody tr th {\n",
       "        vertical-align: top;\n",
       "    }\n",
       "\n",
       "    .dataframe thead th {\n",
       "        text-align: right;\n",
       "    }\n",
       "</style>\n",
       "<table border=\"1\" class=\"dataframe\">\n",
       "  <thead>\n",
       "    <tr style=\"text-align: right;\">\n",
       "      <th></th>\n",
       "      <th>accuracy</th>\n",
       "      <th>precision</th>\n",
       "      <th>recall</th>\n",
       "      <th>f1</th>\n",
       "      <th>roc_auc</th>\n",
       "    </tr>\n",
       "  </thead>\n",
       "  <tbody>\n",
       "    <tr>\n",
       "      <th>logistic regression n=100000</th>\n",
       "      <td>0.941642</td>\n",
       "      <td>0.650994</td>\n",
       "      <td>0.843073</td>\n",
       "      <td>0.734687</td>\n",
       "      <td>0.897582</td>\n",
       "    </tr>\n",
       "    <tr>\n",
       "      <th>logistic regression n=50000</th>\n",
       "      <td>0.940702</td>\n",
       "      <td>0.645191</td>\n",
       "      <td>0.847160</td>\n",
       "      <td>0.732509</td>\n",
       "      <td>0.898889</td>\n",
       "    </tr>\n",
       "    <tr>\n",
       "      <th>logistic regression n=25000</th>\n",
       "      <td>0.938939</td>\n",
       "      <td>0.634872</td>\n",
       "      <td>0.854107</td>\n",
       "      <td>0.728350</td>\n",
       "      <td>0.901019</td>\n",
       "    </tr>\n",
       "    <tr>\n",
       "      <th>logistic regression n=10000</th>\n",
       "      <td>0.933730</td>\n",
       "      <td>0.609516</td>\n",
       "      <td>0.858602</td>\n",
       "      <td>0.712928</td>\n",
       "      <td>0.900148</td>\n",
       "    </tr>\n",
       "    <tr>\n",
       "      <th>logistic regression n=5000</th>\n",
       "      <td>0.927855</td>\n",
       "      <td>0.583356</td>\n",
       "      <td>0.865141</td>\n",
       "      <td>0.696840</td>\n",
       "      <td>0.899822</td>\n",
       "    </tr>\n",
       "  </tbody>\n",
       "</table>\n",
       "</div>"
      ],
      "text/plain": [
       "                              accuracy  precision    recall        f1  \\\n",
       "logistic regression n=100000  0.941642   0.650994  0.843073  0.734687   \n",
       "logistic regression n=50000   0.940702   0.645191  0.847160  0.732509   \n",
       "logistic regression n=25000   0.938939   0.634872  0.854107  0.728350   \n",
       "logistic regression n=10000   0.933730   0.609516  0.858602  0.712928   \n",
       "logistic regression n=5000    0.927855   0.583356  0.865141  0.696840   \n",
       "\n",
       "                               roc_auc  \n",
       "logistic regression n=100000  0.897582  \n",
       "logistic regression n=50000   0.898889  \n",
       "logistic regression n=25000   0.901019  \n",
       "logistic regression n=10000   0.900148  \n",
       "logistic regression n=5000    0.899822  "
      ]
     },
     "execution_count": 17,
     "metadata": {},
     "output_type": "execute_result"
    }
   ],
   "source": [
    "pd.concat(df_list)"
   ]
  },
  {
   "cell_type": "markdown",
   "id": "be3897c2",
   "metadata": {},
   "source": [
    "### 1.3.2 Linear SVM"
   ]
  },
  {
   "cell_type": "code",
   "execution_count": 18,
   "id": "24e7067b",
   "metadata": {},
   "outputs": [],
   "source": [
    "N = [100000, 50000, 25000, 10000, 5000]\n",
    "\n",
    "df_list = []\n",
    "for n in N:\n",
    "    \n",
    "    # vectorization\n",
    "    vectorizer = TfidfVectorizer(stop_words='english', max_features=n)\n",
    "    X = vectorizer.fit_transform(comments['comment_text'])\n",
    "    y = comments['toxic']\n",
    "\n",
    "    # train val, test split\n",
    "    X_temp, X_test, y_temp, y_test = train_test_split(X, y, test_size=0.2, stratify=y, random_state=0)\n",
    "    X_train, X_val, y_train, y_val = train_test_split(X_temp, y_temp, test_size=0.2, stratify=y_temp, random_state=0)\n",
    "    \n",
    "    # model training and evaluation\n",
    "    model = LinearSVC(max_iter=50000, class_weight='balanced').fit(X_train, y_train)\n",
    "    y_hat = model.predict(X_val)\n",
    "    \n",
    "    df_list.append(get_evaluation_df(y_val, y_hat, f'linear SVM n={n}'))"
   ]
  },
  {
   "cell_type": "code",
   "execution_count": 19,
   "id": "f6540012",
   "metadata": {},
   "outputs": [
    {
     "data": {
      "text/html": [
       "<div>\n",
       "<style scoped>\n",
       "    .dataframe tbody tr th:only-of-type {\n",
       "        vertical-align: middle;\n",
       "    }\n",
       "\n",
       "    .dataframe tbody tr th {\n",
       "        vertical-align: top;\n",
       "    }\n",
       "\n",
       "    .dataframe thead th {\n",
       "        text-align: right;\n",
       "    }\n",
       "</style>\n",
       "<table border=\"1\" class=\"dataframe\">\n",
       "  <thead>\n",
       "    <tr style=\"text-align: right;\">\n",
       "      <th></th>\n",
       "      <th>accuracy</th>\n",
       "      <th>precision</th>\n",
       "      <th>recall</th>\n",
       "      <th>f1</th>\n",
       "      <th>roc_auc</th>\n",
       "    </tr>\n",
       "  </thead>\n",
       "  <tbody>\n",
       "    <tr>\n",
       "      <th>linear SVM n=100000</th>\n",
       "      <td>0.943835</td>\n",
       "      <td>0.671986</td>\n",
       "      <td>0.808745</td>\n",
       "      <td>0.734050</td>\n",
       "      <td>0.883450</td>\n",
       "    </tr>\n",
       "    <tr>\n",
       "      <th>linear SVM n=50000</th>\n",
       "      <td>0.940702</td>\n",
       "      <td>0.653001</td>\n",
       "      <td>0.813649</td>\n",
       "      <td>0.724527</td>\n",
       "      <td>0.883909</td>\n",
       "    </tr>\n",
       "    <tr>\n",
       "      <th>linear SVM n=25000</th>\n",
       "      <td>0.937843</td>\n",
       "      <td>0.633623</td>\n",
       "      <td>0.833265</td>\n",
       "      <td>0.719859</td>\n",
       "      <td>0.891097</td>\n",
       "    </tr>\n",
       "    <tr>\n",
       "      <th>linear SVM n=10000</th>\n",
       "      <td>0.930049</td>\n",
       "      <td>0.595163</td>\n",
       "      <td>0.844708</td>\n",
       "      <td>0.698311</td>\n",
       "      <td>0.891901</td>\n",
       "    </tr>\n",
       "    <tr>\n",
       "      <th>linear SVM n=5000</th>\n",
       "      <td>0.922842</td>\n",
       "      <td>0.564547</td>\n",
       "      <td>0.852472</td>\n",
       "      <td>0.679258</td>\n",
       "      <td>0.891387</td>\n",
       "    </tr>\n",
       "  </tbody>\n",
       "</table>\n",
       "</div>"
      ],
      "text/plain": [
       "                     accuracy  precision    recall        f1   roc_auc\n",
       "linear SVM n=100000  0.943835   0.671986  0.808745  0.734050  0.883450\n",
       "linear SVM n=50000   0.940702   0.653001  0.813649  0.724527  0.883909\n",
       "linear SVM n=25000   0.937843   0.633623  0.833265  0.719859  0.891097\n",
       "linear SVM n=10000   0.930049   0.595163  0.844708  0.698311  0.891901\n",
       "linear SVM n=5000    0.922842   0.564547  0.852472  0.679258  0.891387"
      ]
     },
     "execution_count": 19,
     "metadata": {},
     "output_type": "execute_result"
    }
   ],
   "source": [
    "pd.concat(df_list)"
   ]
  },
  {
   "cell_type": "markdown",
   "id": "a2659f1a",
   "metadata": {},
   "source": [
    "### 1.3.2. RBF SVM"
   ]
  },
  {
   "cell_type": "code",
   "execution_count": 20,
   "id": "f08f910f",
   "metadata": {},
   "outputs": [],
   "source": [
    "N = [100000, 50000, 25000, 10000, 5000]\n",
    "\n",
    "df_list = []\n",
    "for n in N:\n",
    "    \n",
    "    # vectorization\n",
    "    vectorizer = TfidfVectorizer(stop_words='english', max_features=n)\n",
    "    X = vectorizer.fit_transform(comments['comment_text'])\n",
    "    y = comments['toxic']\n",
    "\n",
    "    # train val, test split\n",
    "    X_temp, X_test, y_temp, y_test = train_test_split(X, y, test_size=0.2, stratify=y, random_state=0)\n",
    "    X_train, X_val, y_train, y_val = train_test_split(X_temp, y_temp, test_size=0.2, stratify=y_temp, random_state=0)\n",
    "    \n",
    "    # model training and evaluation\n",
    "    model = SVC(max_iter=100000, class_weight='balanced').fit(X_train, y_train)\n",
    "    y_hat = model.predict(X_val)\n",
    "    \n",
    "    df_list.append(get_evaluation_df(y_val, y_hat, f'linear SVM n={n}'))"
   ]
  },
  {
   "cell_type": "code",
   "execution_count": 21,
   "id": "877121be",
   "metadata": {},
   "outputs": [
    {
     "data": {
      "text/html": [
       "<div>\n",
       "<style scoped>\n",
       "    .dataframe tbody tr th:only-of-type {\n",
       "        vertical-align: middle;\n",
       "    }\n",
       "\n",
       "    .dataframe tbody tr th {\n",
       "        vertical-align: top;\n",
       "    }\n",
       "\n",
       "    .dataframe thead th {\n",
       "        text-align: right;\n",
       "    }\n",
       "</style>\n",
       "<table border=\"1\" class=\"dataframe\">\n",
       "  <thead>\n",
       "    <tr style=\"text-align: right;\">\n",
       "      <th></th>\n",
       "      <th>accuracy</th>\n",
       "      <th>precision</th>\n",
       "      <th>recall</th>\n",
       "      <th>f1</th>\n",
       "      <th>roc_auc</th>\n",
       "    </tr>\n",
       "  </thead>\n",
       "  <tbody>\n",
       "    <tr>\n",
       "      <th>linear SVM n=100000</th>\n",
       "      <td>0.959188</td>\n",
       "      <td>0.829040</td>\n",
       "      <td>0.723335</td>\n",
       "      <td>0.772588</td>\n",
       "      <td>0.853762</td>\n",
       "    </tr>\n",
       "    <tr>\n",
       "      <th>linear SVM n=50000</th>\n",
       "      <td>0.959384</td>\n",
       "      <td>0.820746</td>\n",
       "      <td>0.737229</td>\n",
       "      <td>0.776749</td>\n",
       "      <td>0.860081</td>\n",
       "    </tr>\n",
       "    <tr>\n",
       "      <th>linear SVM n=25000</th>\n",
       "      <td>0.958640</td>\n",
       "      <td>0.805714</td>\n",
       "      <td>0.749081</td>\n",
       "      <td>0.776366</td>\n",
       "      <td>0.864967</td>\n",
       "    </tr>\n",
       "    <tr>\n",
       "      <th>linear SVM n=10000</th>\n",
       "      <td>0.956408</td>\n",
       "      <td>0.778613</td>\n",
       "      <td>0.761749</td>\n",
       "      <td>0.770089</td>\n",
       "      <td>0.869395</td>\n",
       "    </tr>\n",
       "    <tr>\n",
       "      <th>linear SVM n=5000</th>\n",
       "      <td>0.952804</td>\n",
       "      <td>0.747410</td>\n",
       "      <td>0.766653</td>\n",
       "      <td>0.756909</td>\n",
       "      <td>0.869595</td>\n",
       "    </tr>\n",
       "  </tbody>\n",
       "</table>\n",
       "</div>"
      ],
      "text/plain": [
       "                     accuracy  precision    recall        f1   roc_auc\n",
       "linear SVM n=100000  0.959188   0.829040  0.723335  0.772588  0.853762\n",
       "linear SVM n=50000   0.959384   0.820746  0.737229  0.776749  0.860081\n",
       "linear SVM n=25000   0.958640   0.805714  0.749081  0.776366  0.864967\n",
       "linear SVM n=10000   0.956408   0.778613  0.761749  0.770089  0.869395\n",
       "linear SVM n=5000    0.952804   0.747410  0.766653  0.756909  0.869595"
      ]
     },
     "execution_count": 21,
     "metadata": {},
     "output_type": "execute_result"
    }
   ],
   "source": [
    "pd.concat(df_list)"
   ]
  },
  {
   "cell_type": "code",
   "execution_count": null,
   "id": "b94d1e54",
   "metadata": {},
   "outputs": [],
   "source": []
  }
 ],
 "metadata": {
  "kernelspec": {
   "display_name": "Python (final)",
   "language": "python",
   "name": "final"
  },
  "language_info": {
   "codemirror_mode": {
    "name": "ipython",
    "version": 3
   },
   "file_extension": ".py",
   "mimetype": "text/x-python",
   "name": "python",
   "nbconvert_exporter": "python",
   "pygments_lexer": "ipython3",
   "version": "3.9.5"
  }
 },
 "nbformat": 4,
 "nbformat_minor": 5
}
