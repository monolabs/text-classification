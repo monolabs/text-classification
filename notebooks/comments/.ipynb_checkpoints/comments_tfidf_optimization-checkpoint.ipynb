{
 "cells": [
  {
   "cell_type": "code",
   "execution_count": 1,
   "id": "4082b83c",
   "metadata": {},
   "outputs": [],
   "source": [
    "import os\n",
    "os.chdir(os.getcwd() + '/../../')"
   ]
  },
  {
   "cell_type": "code",
   "execution_count": 2,
   "id": "c186f53a",
   "metadata": {},
   "outputs": [
    {
     "name": "stderr",
     "output_type": "stream",
     "text": [
      "[nltk_data] Downloading package averaged_perceptron_tagger to\n",
      "[nltk_data]     C:\\Users\\PendragonS\\AppData\\Roaming\\nltk_data...\n",
      "[nltk_data]   Package averaged_perceptron_tagger is already up-to-\n",
      "[nltk_data]       date!\n",
      "[nltk_data] Downloading package punkt to\n",
      "[nltk_data]     C:\\Users\\PendragonS\\AppData\\Roaming\\nltk_data...\n",
      "[nltk_data]   Package punkt is already up-to-date!\n"
     ]
    }
   ],
   "source": [
    "import pandas as pd\n",
    "import numpy as np\n",
    "import re\n",
    "\n",
    "from sklearn.model_selection import train_test_split\n",
    "from sklearn.feature_extraction.text import TfidfVectorizer\n",
    "from sklearn.linear_model import LogisticRegression\n",
    "from sklearn.svm import LinearSVC, SVC\n",
    "from sklearn.metrics import confusion_matrix\n",
    "\n",
    "from scripts.utils import *"
   ]
  },
  {
   "cell_type": "code",
   "execution_count": 3,
   "id": "0cca431c",
   "metadata": {},
   "outputs": [
    {
     "data": {
      "text/html": [
       "<div>\n",
       "<style scoped>\n",
       "    .dataframe tbody tr th:only-of-type {\n",
       "        vertical-align: middle;\n",
       "    }\n",
       "\n",
       "    .dataframe tbody tr th {\n",
       "        vertical-align: top;\n",
       "    }\n",
       "\n",
       "    .dataframe thead th {\n",
       "        text-align: right;\n",
       "    }\n",
       "</style>\n",
       "<table border=\"1\" class=\"dataframe\">\n",
       "  <thead>\n",
       "    <tr style=\"text-align: right;\">\n",
       "      <th></th>\n",
       "      <th>toxic</th>\n",
       "      <th>comment_text</th>\n",
       "    </tr>\n",
       "  </thead>\n",
       "  <tbody>\n",
       "    <tr>\n",
       "      <th>0</th>\n",
       "      <td>0</td>\n",
       "      <td>explanation why the edits make under my userna...</td>\n",
       "    </tr>\n",
       "    <tr>\n",
       "      <th>1</th>\n",
       "      <td>0</td>\n",
       "      <td>d'aww ! he match this background colour i be s...</td>\n",
       "    </tr>\n",
       "    <tr>\n",
       "      <th>2</th>\n",
       "      <td>0</td>\n",
       "      <td>hey man , i be really not try to edit war . it...</td>\n",
       "    </tr>\n",
       "    <tr>\n",
       "      <th>3</th>\n",
       "      <td>0</td>\n",
       "      <td>`` more i can not make any real suggestion on ...</td>\n",
       "    </tr>\n",
       "    <tr>\n",
       "      <th>4</th>\n",
       "      <td>0</td>\n",
       "      <td>you , sir , be my hero . any chance you rememb...</td>\n",
       "    </tr>\n",
       "  </tbody>\n",
       "</table>\n",
       "</div>"
      ],
      "text/plain": [
       "   toxic                                       comment_text\n",
       "0      0  explanation why the edits make under my userna...\n",
       "1      0  d'aww ! he match this background colour i be s...\n",
       "2      0  hey man , i be really not try to edit war . it...\n",
       "3      0  `` more i can not make any real suggestion on ...\n",
       "4      0  you , sir , be my hero . any chance you rememb..."
      ]
     },
     "execution_count": 3,
     "metadata": {},
     "output_type": "execute_result"
    }
   ],
   "source": [
    "comments = pd.read_csv('data/comments/preprocessed_comments.csv', index_col=0)\n",
    "comments = comments.dropna()\n",
    "comments.head()"
   ]
  },
  {
   "cell_type": "markdown",
   "id": "af7352d1",
   "metadata": {},
   "source": [
    "# 1. TF-IDF"
   ]
  },
  {
   "cell_type": "markdown",
   "id": "936ca127",
   "metadata": {},
   "source": [
    "## 1.1. with stop words"
   ]
  },
  {
   "cell_type": "code",
   "execution_count": 4,
   "id": "0e449937",
   "metadata": {},
   "outputs": [],
   "source": [
    "# vectorization\n",
    "vectorizer = TfidfVectorizer(stop_words='english')\n",
    "X = vectorizer.fit_transform(comments['comment_text'])\n",
    "y = comments['toxic']\n",
    "\n",
    "# train val, test split\n",
    "X_temp, X_test, y_temp, y_test = train_test_split(X, y, test_size=0.2, stratify=y, random_state=0)\n",
    "X_train, X_val, y_train, y_val = train_test_split(X_temp, y_temp, test_size=0.2, stratify=y_temp, random_state=0)"
   ]
  },
  {
   "cell_type": "code",
   "execution_count": 9,
   "id": "b6f26e93",
   "metadata": {},
   "outputs": [
    {
     "name": "stdout",
     "output_type": "stream",
     "text": [
      "179429\n"
     ]
    }
   ],
   "source": [
    "# total number of features\n",
    "print(len(vectorizer.get_feature_names()))"
   ]
  },
  {
   "cell_type": "markdown",
   "id": "dd6d2a06",
   "metadata": {},
   "source": [
    "### 1.1.1 Logistic regression"
   ]
  },
  {
   "cell_type": "code",
   "execution_count": 5,
   "id": "bed08a23",
   "metadata": {},
   "outputs": [],
   "source": [
    "model = LogisticRegression(max_iter=10000, class_weight='balanced').fit(X_train, y_train)\n",
    "y_hat = model.predict(X_val)"
   ]
  },
  {
   "cell_type": "code",
   "execution_count": 6,
   "id": "af98d59a",
   "metadata": {
    "scrolled": true
   },
   "outputs": [
    {
     "data": {
      "text/html": [
       "<div>\n",
       "<style scoped>\n",
       "    .dataframe tbody tr th:only-of-type {\n",
       "        vertical-align: middle;\n",
       "    }\n",
       "\n",
       "    .dataframe tbody tr th {\n",
       "        vertical-align: top;\n",
       "    }\n",
       "\n",
       "    .dataframe thead th {\n",
       "        text-align: right;\n",
       "    }\n",
       "</style>\n",
       "<table border=\"1\" class=\"dataframe\">\n",
       "  <thead>\n",
       "    <tr style=\"text-align: right;\">\n",
       "      <th></th>\n",
       "      <th>accuracy</th>\n",
       "      <th>precision</th>\n",
       "      <th>recall</th>\n",
       "      <th>f1</th>\n",
       "      <th>roc_auc</th>\n",
       "    </tr>\n",
       "  </thead>\n",
       "  <tbody>\n",
       "    <tr>\n",
       "      <th>logistic regression</th>\n",
       "      <td>0.942817</td>\n",
       "      <td>0.657238</td>\n",
       "      <td>0.843086</td>\n",
       "      <td>0.738651</td>\n",
       "      <td>0.898238</td>\n",
       "    </tr>\n",
       "  </tbody>\n",
       "</table>\n",
       "</div>"
      ],
      "text/plain": [
       "                     accuracy  precision    recall        f1   roc_auc\n",
       "logistic regression  0.942817   0.657238  0.843086  0.738651  0.898238"
      ]
     },
     "execution_count": 6,
     "metadata": {},
     "output_type": "execute_result"
    }
   ],
   "source": [
    "get_evaluation_df(y_val, y_hat, 'logistic regression')"
   ]
  },
  {
   "cell_type": "markdown",
   "id": "03ecbb92",
   "metadata": {},
   "source": [
    "### 1.1.2. Linear SVM"
   ]
  },
  {
   "cell_type": "code",
   "execution_count": 7,
   "id": "cdad6f65",
   "metadata": {},
   "outputs": [],
   "source": [
    "model = LinearSVC(max_iter=50000, class_weight='balanced').fit(X_train, y_train)\n",
    "y_hat = model.predict(X_val)"
   ]
  },
  {
   "cell_type": "code",
   "execution_count": 8,
   "id": "f62d57c9",
   "metadata": {},
   "outputs": [
    {
     "data": {
      "text/html": [
       "<div>\n",
       "<style scoped>\n",
       "    .dataframe tbody tr th:only-of-type {\n",
       "        vertical-align: middle;\n",
       "    }\n",
       "\n",
       "    .dataframe tbody tr th {\n",
       "        vertical-align: top;\n",
       "    }\n",
       "\n",
       "    .dataframe thead th {\n",
       "        text-align: right;\n",
       "    }\n",
       "</style>\n",
       "<table border=\"1\" class=\"dataframe\">\n",
       "  <thead>\n",
       "    <tr style=\"text-align: right;\">\n",
       "      <th></th>\n",
       "      <th>accuracy</th>\n",
       "      <th>precision</th>\n",
       "      <th>recall</th>\n",
       "      <th>f1</th>\n",
       "      <th>roc_auc</th>\n",
       "    </tr>\n",
       "  </thead>\n",
       "  <tbody>\n",
       "    <tr>\n",
       "      <th>linear SVM</th>\n",
       "      <td>0.945731</td>\n",
       "      <td>0.687376</td>\n",
       "      <td>0.795685</td>\n",
       "      <td>0.737576</td>\n",
       "      <td>0.878661</td>\n",
       "    </tr>\n",
       "  </tbody>\n",
       "</table>\n",
       "</div>"
      ],
      "text/plain": [
       "            accuracy  precision    recall        f1   roc_auc\n",
       "linear SVM  0.945731   0.687376  0.795685  0.737576  0.878661"
      ]
     },
     "execution_count": 8,
     "metadata": {},
     "output_type": "execute_result"
    }
   ],
   "source": [
    "get_evaluation_df(y_val, y_hat, 'linear SVM')"
   ]
  },
  {
   "cell_type": "markdown",
   "id": "a99500b8",
   "metadata": {},
   "source": [
    "## 1.2. Unigram + bigram model"
   ]
  },
  {
   "cell_type": "code",
   "execution_count": 11,
   "id": "003023d7",
   "metadata": {},
   "outputs": [],
   "source": [
    "# vectorization\n",
    "vectorizer = TfidfVectorizer(stop_words='english', ngram_range=(1, 2))\n",
    "X = vectorizer.fit_transform(comments['comment_text'])\n",
    "y = comments['toxic']\n",
    "\n",
    "# train val, test split\n",
    "X_temp, X_test, y_temp, y_test = train_test_split(X, y, test_size=0.2, stratify=y, random_state=0)\n",
    "X_train, X_val, y_train, y_val = train_test_split(X_temp, y_temp, test_size=0.2, stratify=y_temp, random_state=0)"
   ]
  },
  {
   "cell_type": "code",
   "execution_count": 12,
   "id": "333a5c16",
   "metadata": {},
   "outputs": [
    {
     "name": "stdout",
     "output_type": "stream",
     "text": [
      "2470034\n"
     ]
    }
   ],
   "source": [
    "# total number of features\n",
    "print(len(vectorizer.get_feature_names()))"
   ]
  },
  {
   "cell_type": "markdown",
   "id": "d3caa9e0",
   "metadata": {},
   "source": [
    "### 1.2.1. Logistic Regression"
   ]
  },
  {
   "cell_type": "code",
   "execution_count": 13,
   "id": "e58d0421",
   "metadata": {},
   "outputs": [],
   "source": [
    "model = LogisticRegression(max_iter=10000, class_weight='balanced').fit(X_train, y_train)\n",
    "y_hat = model.predict(X_val)"
   ]
  },
  {
   "cell_type": "code",
   "execution_count": 14,
   "id": "9d868a5a",
   "metadata": {},
   "outputs": [
    {
     "data": {
      "text/html": [
       "<div>\n",
       "<style scoped>\n",
       "    .dataframe tbody tr th:only-of-type {\n",
       "        vertical-align: middle;\n",
       "    }\n",
       "\n",
       "    .dataframe tbody tr th {\n",
       "        vertical-align: top;\n",
       "    }\n",
       "\n",
       "    .dataframe thead th {\n",
       "        text-align: right;\n",
       "    }\n",
       "</style>\n",
       "<table border=\"1\" class=\"dataframe\">\n",
       "  <thead>\n",
       "    <tr style=\"text-align: right;\">\n",
       "      <th></th>\n",
       "      <th>accuracy</th>\n",
       "      <th>precision</th>\n",
       "      <th>recall</th>\n",
       "      <th>f1</th>\n",
       "      <th>roc_auc</th>\n",
       "    </tr>\n",
       "  </thead>\n",
       "  <tbody>\n",
       "    <tr>\n",
       "      <th>logistic regression</th>\n",
       "      <td>0.948676</td>\n",
       "      <td>0.711521</td>\n",
       "      <td>0.781301</td>\n",
       "      <td>0.74478</td>\n",
       "      <td>0.87386</td>\n",
       "    </tr>\n",
       "  </tbody>\n",
       "</table>\n",
       "</div>"
      ],
      "text/plain": [
       "                     accuracy  precision    recall       f1  roc_auc\n",
       "logistic regression  0.948676   0.711521  0.781301  0.74478  0.87386"
      ]
     },
     "execution_count": 14,
     "metadata": {},
     "output_type": "execute_result"
    }
   ],
   "source": [
    "get_evaluation_df(y_val, y_hat, 'logistic regression')"
   ]
  },
  {
   "cell_type": "markdown",
   "id": "402248b1",
   "metadata": {},
   "source": [
    "### 1.2.2. Linear SVM"
   ]
  },
  {
   "cell_type": "code",
   "execution_count": 15,
   "id": "9c415dd0",
   "metadata": {},
   "outputs": [],
   "source": [
    "model = LinearSVC(max_iter=50000, class_weight='balanced').fit(X_train, y_train)\n",
    "y_hat = model.predict(X_val)"
   ]
  },
  {
   "cell_type": "code",
   "execution_count": 16,
   "id": "59350846",
   "metadata": {},
   "outputs": [
    {
     "data": {
      "text/html": [
       "<div>\n",
       "<style scoped>\n",
       "    .dataframe tbody tr th:only-of-type {\n",
       "        vertical-align: middle;\n",
       "    }\n",
       "\n",
       "    .dataframe tbody tr th {\n",
       "        vertical-align: top;\n",
       "    }\n",
       "\n",
       "    .dataframe thead th {\n",
       "        text-align: right;\n",
       "    }\n",
       "</style>\n",
       "<table border=\"1\" class=\"dataframe\">\n",
       "  <thead>\n",
       "    <tr style=\"text-align: right;\">\n",
       "      <th></th>\n",
       "      <th>accuracy</th>\n",
       "      <th>precision</th>\n",
       "      <th>recall</th>\n",
       "      <th>f1</th>\n",
       "      <th>roc_auc</th>\n",
       "    </tr>\n",
       "  </thead>\n",
       "  <tbody>\n",
       "    <tr>\n",
       "      <th>linear SVM</th>\n",
       "      <td>0.958671</td>\n",
       "      <td>0.840109</td>\n",
       "      <td>0.702517</td>\n",
       "      <td>0.765177</td>\n",
       "      <td>0.844172</td>\n",
       "    </tr>\n",
       "  </tbody>\n",
       "</table>\n",
       "</div>"
      ],
      "text/plain": [
       "            accuracy  precision    recall        f1   roc_auc\n",
       "linear SVM  0.958671   0.840109  0.702517  0.765177  0.844172"
      ]
     },
     "execution_count": 16,
     "metadata": {},
     "output_type": "execute_result"
    }
   ],
   "source": [
    "get_evaluation_df(y_val, y_hat, 'linear SVM')"
   ]
  },
  {
   "cell_type": "markdown",
   "id": "778731bf",
   "metadata": {},
   "source": [
    "## 1.3. Effect of number of features"
   ]
  },
  {
   "cell_type": "markdown",
   "id": "383dfbab",
   "metadata": {},
   "source": [
    "### 1.3.1. Logistic regression"
   ]
  },
  {
   "cell_type": "code",
   "execution_count": 17,
   "id": "51d10337",
   "metadata": {},
   "outputs": [],
   "source": [
    "N = [100000, 50000, 25000, 10000, 5000]\n",
    "\n",
    "df_list = []\n",
    "for n in N:\n",
    "    \n",
    "    # vectorization\n",
    "    vectorizer = TfidfVectorizer(stop_words='english', max_features=n)\n",
    "    X = vectorizer.fit_transform(comments['comment_text'])\n",
    "    y = comments['toxic']\n",
    "\n",
    "    # train val, test split\n",
    "    X_temp, X_test, y_temp, y_test = train_test_split(X, y, test_size=0.2, stratify=y, random_state=0)\n",
    "    X_train, X_val, y_train, y_val = train_test_split(X_temp, y_temp, test_size=0.2, stratify=y_temp, random_state=0)\n",
    "    \n",
    "    # model training and evaluation\n",
    "    model = LogisticRegression(max_iter=10000, class_weight='balanced').fit(X_train, y_train)\n",
    "    y_hat = model.predict(X_val)\n",
    "    \n",
    "    df_list.append(get_evaluation_df(y_val, y_hat, f'logistic regression n={n}'))"
   ]
  },
  {
   "cell_type": "code",
   "execution_count": 18,
   "id": "c261287f",
   "metadata": {},
   "outputs": [
    {
     "data": {
      "text/html": [
       "<div>\n",
       "<style scoped>\n",
       "    .dataframe tbody tr th:only-of-type {\n",
       "        vertical-align: middle;\n",
       "    }\n",
       "\n",
       "    .dataframe tbody tr th {\n",
       "        vertical-align: top;\n",
       "    }\n",
       "\n",
       "    .dataframe thead th {\n",
       "        text-align: right;\n",
       "    }\n",
       "</style>\n",
       "<table border=\"1\" class=\"dataframe\">\n",
       "  <thead>\n",
       "    <tr style=\"text-align: right;\">\n",
       "      <th></th>\n",
       "      <th>accuracy</th>\n",
       "      <th>precision</th>\n",
       "      <th>recall</th>\n",
       "      <th>f1</th>\n",
       "      <th>roc_auc</th>\n",
       "    </tr>\n",
       "  </thead>\n",
       "  <tbody>\n",
       "    <tr>\n",
       "      <th>logistic regression n=100000</th>\n",
       "      <td>0.942222</td>\n",
       "      <td>0.652830</td>\n",
       "      <td>0.848316</td>\n",
       "      <td>0.737845</td>\n",
       "      <td>0.900246</td>\n",
       "    </tr>\n",
       "    <tr>\n",
       "      <th>logistic regression n=50000</th>\n",
       "      <td>0.941344</td>\n",
       "      <td>0.647307</td>\n",
       "      <td>0.852566</td>\n",
       "      <td>0.735892</td>\n",
       "      <td>0.901661</td>\n",
       "    </tr>\n",
       "    <tr>\n",
       "      <th>logistic regression n=25000</th>\n",
       "      <td>0.938869</td>\n",
       "      <td>0.634011</td>\n",
       "      <td>0.856816</td>\n",
       "      <td>0.728764</td>\n",
       "      <td>0.902192</td>\n",
       "    </tr>\n",
       "    <tr>\n",
       "      <th>logistic regression n=10000</th>\n",
       "      <td>0.933636</td>\n",
       "      <td>0.609089</td>\n",
       "      <td>0.858777</td>\n",
       "      <td>0.712697</td>\n",
       "      <td>0.900175</td>\n",
       "    </tr>\n",
       "    <tr>\n",
       "      <th>logistic regression n=5000</th>\n",
       "      <td>0.926994</td>\n",
       "      <td>0.581198</td>\n",
       "      <td>0.852893</td>\n",
       "      <td>0.691309</td>\n",
       "      <td>0.893871</td>\n",
       "    </tr>\n",
       "  </tbody>\n",
       "</table>\n",
       "</div>"
      ],
      "text/plain": [
       "                              accuracy  precision    recall        f1  \\\n",
       "logistic regression n=100000  0.942222   0.652830  0.848316  0.737845   \n",
       "logistic regression n=50000   0.941344   0.647307  0.852566  0.735892   \n",
       "logistic regression n=25000   0.938869   0.634011  0.856816  0.728764   \n",
       "logistic regression n=10000   0.933636   0.609089  0.858777  0.712697   \n",
       "logistic regression n=5000    0.926994   0.581198  0.852893  0.691309   \n",
       "\n",
       "                               roc_auc  \n",
       "logistic regression n=100000  0.900246  \n",
       "logistic regression n=50000   0.901661  \n",
       "logistic regression n=25000   0.902192  \n",
       "logistic regression n=10000   0.900175  \n",
       "logistic regression n=5000    0.893871  "
      ]
     },
     "execution_count": 18,
     "metadata": {},
     "output_type": "execute_result"
    }
   ],
   "source": [
    "pd.concat(df_list)"
   ]
  },
  {
   "cell_type": "markdown",
   "id": "be3897c2",
   "metadata": {},
   "source": [
    "### 1.3.2 Linear SVM"
   ]
  },
  {
   "cell_type": "code",
   "execution_count": 19,
   "id": "24e7067b",
   "metadata": {},
   "outputs": [],
   "source": [
    "N = [100000, 50000, 25000, 10000, 5000]\n",
    "\n",
    "df_list = []\n",
    "for n in N:\n",
    "    \n",
    "    # vectorization\n",
    "    vectorizer = TfidfVectorizer(stop_words='english', max_features=n)\n",
    "    X = vectorizer.fit_transform(comments['comment_text'])\n",
    "    y = comments['toxic']\n",
    "\n",
    "    # train val, test split\n",
    "    X_temp, X_test, y_temp, y_test = train_test_split(X, y, test_size=0.2, stratify=y, random_state=0)\n",
    "    X_train, X_val, y_train, y_val = train_test_split(X_temp, y_temp, test_size=0.2, stratify=y_temp, random_state=0)\n",
    "    \n",
    "    # model training and evaluation\n",
    "    model = LinearSVC(max_iter=50000, class_weight='balanced').fit(X_train, y_train)\n",
    "    y_hat = model.predict(X_val)\n",
    "    \n",
    "    df_list.append(get_evaluation_df(y_val, y_hat, f'linear SVM n={n}'))"
   ]
  },
  {
   "cell_type": "code",
   "execution_count": 20,
   "id": "f6540012",
   "metadata": {},
   "outputs": [
    {
     "data": {
      "text/html": [
       "<div>\n",
       "<style scoped>\n",
       "    .dataframe tbody tr th:only-of-type {\n",
       "        vertical-align: middle;\n",
       "    }\n",
       "\n",
       "    .dataframe tbody tr th {\n",
       "        vertical-align: top;\n",
       "    }\n",
       "\n",
       "    .dataframe thead th {\n",
       "        text-align: right;\n",
       "    }\n",
       "</style>\n",
       "<table border=\"1\" class=\"dataframe\">\n",
       "  <thead>\n",
       "    <tr style=\"text-align: right;\">\n",
       "      <th></th>\n",
       "      <th>accuracy</th>\n",
       "      <th>precision</th>\n",
       "      <th>recall</th>\n",
       "      <th>f1</th>\n",
       "      <th>roc_auc</th>\n",
       "    </tr>\n",
       "  </thead>\n",
       "  <tbody>\n",
       "    <tr>\n",
       "      <th>linear SVM n=100000</th>\n",
       "      <td>0.943193</td>\n",
       "      <td>0.668835</td>\n",
       "      <td>0.806800</td>\n",
       "      <td>0.731368</td>\n",
       "      <td>0.882226</td>\n",
       "    </tr>\n",
       "    <tr>\n",
       "      <th>linear SVM n=50000</th>\n",
       "      <td>0.940812</td>\n",
       "      <td>0.651869</td>\n",
       "      <td>0.820856</td>\n",
       "      <td>0.726668</td>\n",
       "      <td>0.887192</td>\n",
       "    </tr>\n",
       "    <tr>\n",
       "      <th>linear SVM n=25000</th>\n",
       "      <td>0.936488</td>\n",
       "      <td>0.627282</td>\n",
       "      <td>0.831317</td>\n",
       "      <td>0.715029</td>\n",
       "      <td>0.889477</td>\n",
       "    </tr>\n",
       "    <tr>\n",
       "      <th>linear SVM n=10000</th>\n",
       "      <td>0.928968</td>\n",
       "      <td>0.590742</td>\n",
       "      <td>0.842759</td>\n",
       "      <td>0.694598</td>\n",
       "      <td>0.890433</td>\n",
       "    </tr>\n",
       "    <tr>\n",
       "      <th>linear SVM n=5000</th>\n",
       "      <td>0.922388</td>\n",
       "      <td>0.563399</td>\n",
       "      <td>0.845374</td>\n",
       "      <td>0.676167</td>\n",
       "      <td>0.887963</td>\n",
       "    </tr>\n",
       "  </tbody>\n",
       "</table>\n",
       "</div>"
      ],
      "text/plain": [
       "                     accuracy  precision    recall        f1   roc_auc\n",
       "linear SVM n=100000  0.943193   0.668835  0.806800  0.731368  0.882226\n",
       "linear SVM n=50000   0.940812   0.651869  0.820856  0.726668  0.887192\n",
       "linear SVM n=25000   0.936488   0.627282  0.831317  0.715029  0.889477\n",
       "linear SVM n=10000   0.928968   0.590742  0.842759  0.694598  0.890433\n",
       "linear SVM n=5000    0.922388   0.563399  0.845374  0.676167  0.887963"
      ]
     },
     "execution_count": 20,
     "metadata": {},
     "output_type": "execute_result"
    }
   ],
   "source": [
    "pd.concat(df_list)"
   ]
  },
  {
   "cell_type": "code",
   "execution_count": null,
   "id": "842fa6c1",
   "metadata": {},
   "outputs": [],
   "source": []
  }
 ],
 "metadata": {
  "kernelspec": {
   "display_name": "Python (final)",
   "language": "python",
   "name": "final"
  },
  "language_info": {
   "codemirror_mode": {
    "name": "ipython",
    "version": 3
   },
   "file_extension": ".py",
   "mimetype": "text/x-python",
   "name": "python",
   "nbconvert_exporter": "python",
   "pygments_lexer": "ipython3",
   "version": "3.9.5"
  }
 },
 "nbformat": 4,
 "nbformat_minor": 5
}
