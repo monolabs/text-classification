{
 "cells": [
  {
   "cell_type": "code",
   "execution_count": 1,
   "id": "37263b4a",
   "metadata": {},
   "outputs": [],
   "source": [
    "import os\n",
    "os.chdir(os.getcwd() + '/../../')"
   ]
  },
  {
   "cell_type": "code",
   "execution_count": 2,
   "id": "e35581fe",
   "metadata": {},
   "outputs": [
    {
     "name": "stderr",
     "output_type": "stream",
     "text": [
      "[nltk_data] Downloading package averaged_perceptron_tagger to\n",
      "[nltk_data]     C:\\Users\\PendragonS\\AppData\\Roaming\\nltk_data...\n",
      "[nltk_data]   Package averaged_perceptron_tagger is already up-to-\n",
      "[nltk_data]       date!\n"
     ]
    }
   ],
   "source": [
    "import nltk\n",
    "\n",
    "from scripts.utils import *"
   ]
  },
  {
   "cell_type": "code",
   "execution_count": 3,
   "id": "61f25893",
   "metadata": {},
   "outputs": [
    {
     "data": {
      "text/plain": [
       "[('The', 'DT'),\n",
       " ('Brown', 'NNP'),\n",
       " ('fox', 'NN'),\n",
       " ('jumps', 'NNS'),\n",
       " ('over', 'IN'),\n",
       " ('the', 'DT'),\n",
       " ('lazy', 'JJ'),\n",
       " ('dog', 'NN')]"
      ]
     },
     "execution_count": 3,
     "metadata": {},
     "output_type": "execute_result"
    }
   ],
   "source": [
    "words = 'The Brown fox jumps over the lazy dog'.split()\n",
    "nltk.pos_tag(words)"
   ]
  },
  {
   "cell_type": "markdown",
   "id": "e6f36a2c",
   "metadata": {},
   "source": [
    "### Splitting into sentences"
   ]
  },
  {
   "cell_type": "code",
   "execution_count": 6,
   "id": "c1cfbafb",
   "metadata": {},
   "outputs": [],
   "source": [
    "text = 'The head of a conservative Republican faction in the U.S. Congress, who voted this month for a huge expansion of the national debt to pay for tax cuts, called himself a “fiscal conservative” on Sunday and urged budget restraint in 2018. In keeping with a sharp pivot under way among Republicans, U.S. Representative Mark Meadows, speaking on CBS’ “Face the Nation,” drew a hard line on federal spending, which lawmakers are bracing to do battle over in January. When they return from the holidays on Wednesday, lawmakers will begin trying to pass a federal budget in a fight likely to be linked to other issues, such as immigration policy, even as the November congressional election campaigns approach in which Republicans will seek to keep control of Congress.'"
   ]
  },
  {
   "cell_type": "code",
   "execution_count": 7,
   "id": "596a84a9",
   "metadata": {},
   "outputs": [
    {
     "name": "stderr",
     "output_type": "stream",
     "text": [
      "[nltk_data] Downloading package punkt to\n",
      "[nltk_data]     C:\\Users\\PendragonS\\AppData\\Roaming\\nltk_data...\n",
      "[nltk_data]   Package punkt is already up-to-date!\n"
     ]
    }
   ],
   "source": [
    "nltk.download('punkt')\n",
    "splitter = nltk.data.load('tokenizers/punkt/english.pickle')"
   ]
  },
  {
   "cell_type": "code",
   "execution_count": 8,
   "id": "721e7a0c",
   "metadata": {},
   "outputs": [
    {
     "data": {
      "text/plain": [
       "['The head of a conservative Republican faction in the U.S. Congress, who voted this month for a huge expansion of the national debt to pay for tax cuts, called himself a “fiscal conservative” on Sunday and urged budget restraint in 2018.',\n",
       " 'In keeping with a sharp pivot under way among Republicans, U.S. Representative Mark Meadows, speaking on CBS’ “Face the Nation,” drew a hard line on federal spending, which lawmakers are bracing to do battle over in January.',\n",
       " 'When they return from the holidays on Wednesday, lawmakers will begin trying to pass a federal budget in a fight likely to be linked to other issues, such as immigration policy, even as the November congressional election campaigns approach in which Republicans will seek to keep control of Congress.']"
      ]
     },
     "execution_count": 8,
     "metadata": {},
     "output_type": "execute_result"
    }
   ],
   "source": [
    "sentences = splitter.tokenize(text)\n",
    "sentences"
   ]
  },
  {
   "cell_type": "markdown",
   "id": "977ffa57",
   "metadata": {},
   "source": [
    "### Word tokenizing"
   ]
  },
  {
   "cell_type": "code",
   "execution_count": 14,
   "id": "df12603f",
   "metadata": {},
   "outputs": [
    {
     "name": "stdout",
     "output_type": "stream",
     "text": [
      "['The', 'head', 'of', 'a', 'conservative', 'Republican', 'faction', 'in', 'the', 'U.S.', 'Congress', ',', 'who', 'voted', 'this', 'month', 'for', 'a', 'huge', 'expansion', 'of', 'the', 'national', 'debt', 'to', 'pay', 'for', 'tax', 'cuts', ',', 'called', 'himself', 'a', '“', 'fiscal', 'conservative', '”', 'on', 'Sunday', 'and', 'urged', 'budget', 'restraint', 'in', '2018', '.']\n"
     ]
    }
   ],
   "source": [
    "from nltk import word_tokenize\n",
    "\n",
    "tokens_all = [word_tokenize(sentence) for sentence in sentences]\n",
    "\n",
    "print(tokens_all[0])"
   ]
  },
  {
   "cell_type": "markdown",
   "id": "b92825a4",
   "metadata": {},
   "source": [
    "### WordNet  tagging"
   ]
  },
  {
   "cell_type": "code",
   "execution_count": 15,
   "id": "41dd0074",
   "metadata": {},
   "outputs": [
    {
     "name": "stdout",
     "output_type": "stream",
     "text": [
      "[('the', 'DT'), ('head', 'NN'), ('of', 'IN'), ('a', 'DT'), ('conservative', 'JJ'), ('republican', 'JJ'), ('faction', 'NN'), ('in', 'IN'), ('the', 'DT'), ('u.s.', 'JJ'), ('congress', 'NN'), (',', ','), ('who', 'WP'), ('voted', 'VBD'), ('this', 'DT'), ('month', 'NN'), ('for', 'IN'), ('a', 'DT'), ('huge', 'JJ'), ('expansion', 'NN'), ('of', 'IN'), ('the', 'DT'), ('national', 'JJ'), ('debt', 'NN'), ('to', 'TO'), ('pay', 'VB'), ('for', 'IN'), ('tax', 'NN'), ('cuts', 'NNS'), (',', ','), ('called', 'VBD'), ('himself', 'PRP'), ('a', 'DT'), ('“', 'JJ'), ('fiscal', 'JJ'), ('conservative', 'JJ'), ('”', 'NN'), ('on', 'IN'), ('sunday', 'NN'), ('and', 'CC'), ('urged', 'VBD'), ('budget', 'NN'), ('restraint', 'NN'), ('in', 'IN'), ('2018', 'CD'), ('.', '.')]\n"
     ]
    }
   ],
   "source": [
    "tags_all = []\n",
    "for tokens in tokens_all:\n",
    "    sentence_tags = nltk.pos_tag([token.lower() for token in tokens])\n",
    "    tags_all.append(sentence_tags)\n",
    "\n",
    "print(tags_all[0])"
   ]
  },
  {
   "cell_type": "code",
   "execution_count": 16,
   "id": "7527630c",
   "metadata": {},
   "outputs": [
    {
     "name": "stdout",
     "output_type": "stream",
     "text": [
      "[('the', 'n'), ('head', 'n'), ('of', 'n'), ('a', 'n'), ('conservative', 'a'), ('republican', 'a'), ('faction', 'n'), ('in', 'n'), ('the', 'n'), ('u.s.', 'a'), ('congress', 'n'), (',', 'n'), ('who', 'n'), ('voted', 'v'), ('this', 'n'), ('month', 'n'), ('for', 'n'), ('a', 'n'), ('huge', 'a'), ('expansion', 'n'), ('of', 'n'), ('the', 'n'), ('national', 'a'), ('debt', 'n'), ('to', 'n'), ('pay', 'v'), ('for', 'n'), ('tax', 'n'), ('cuts', 'n'), (',', 'n'), ('called', 'v'), ('himself', 'n'), ('a', 'n'), ('“', 'a'), ('fiscal', 'a'), ('conservative', 'a'), ('”', 'n'), ('on', 'n'), ('sunday', 'n'), ('and', 'n'), ('urged', 'v'), ('budget', 'n'), ('restraint', 'n'), ('in', 'n'), ('2018', 'n'), ('.', 'n')]\n"
     ]
    }
   ],
   "source": [
    "wordnet_tags_all = []\n",
    "for tags in tags_all:\n",
    "    wordnet_tags = [(tag[0], convert_to_wordnet_tag(tag[1])) for tag in tags]\n",
    "    wordnet_tags_all.append(wordnet_tags)\n",
    "\n",
    "print(wordnet_tags_all[0])"
   ]
  },
  {
   "cell_type": "markdown",
   "id": "6abe3bf4",
   "metadata": {},
   "source": [
    "### Lemmatization"
   ]
  },
  {
   "cell_type": "code",
   "execution_count": 20,
   "id": "5c0d3315",
   "metadata": {},
   "outputs": [
    {
     "data": {
      "text/plain": [
       "'the head of a conservative republican faction in the u.s. congress , who vote this month for a huge expansion of the national debt to pay for tax cut , call himself a “ fiscal conservative ” on sunday and urge budget restraint in 2018 .'"
      ]
     },
     "execution_count": 20,
     "metadata": {},
     "output_type": "execute_result"
    }
   ],
   "source": [
    "from nltk.stem import WordNetLemmatizer\n",
    "\n",
    "lemmatizer = WordNetLemmatizer()\n",
    "lemmatized_sentences = []\n",
    "for tags in wordnet_tags_all:\n",
    "    lemmatized_sentence = ' '.join([lemmatizer.lemmatize(tag[0], pos=tag[1]) for tag in tags])\n",
    "    lemmatized_sentences.append(lemmatized_sentence)\n",
    "    \n",
    "lemmatized_sentences[0]"
   ]
  },
  {
   "cell_type": "markdown",
   "id": "e6887df8",
   "metadata": {},
   "source": [
    "### Sentences to document"
   ]
  },
  {
   "cell_type": "code",
   "execution_count": 22,
   "id": "417536b6",
   "metadata": {},
   "outputs": [
    {
     "data": {
      "text/plain": [
       "'the head of a conservative republican faction in the u.s. congress , who vote this month for a huge expansion of the national debt to pay for tax cut , call himself a “ fiscal conservative ” on sunday and urge budget restraint in 2018 . in keep with a sharp pivot under way among republican , u.s. representative mark meadow , speak on cbs ’ “ face the nation , ” draw a hard line on federal spending , which lawmaker be brace to do battle over in january . when they return from the holiday on wednesday , lawmaker will begin try to pass a federal budget in a fight likely to be link to other issue , such a immigration policy , even a the november congressional election campaign approach in which republican will seek to keep control of congress .'"
      ]
     },
     "execution_count": 22,
     "metadata": {},
     "output_type": "execute_result"
    }
   ],
   "source": [
    "lemmatized_doc = ' '.join(lemmatized_sentences)\n",
    "\n",
    "lemmatized_doc"
   ]
  },
  {
   "cell_type": "code",
   "execution_count": null,
   "id": "4c16a590",
   "metadata": {},
   "outputs": [],
   "source": []
  }
 ],
 "metadata": {
  "kernelspec": {
   "display_name": "Python (final)",
   "language": "python",
   "name": "final"
  },
  "language_info": {
   "codemirror_mode": {
    "name": "ipython",
    "version": 3
   },
   "file_extension": ".py",
   "mimetype": "text/x-python",
   "name": "python",
   "nbconvert_exporter": "python",
   "pygments_lexer": "ipython3",
   "version": "3.9.5"
  }
 },
 "nbformat": 4,
 "nbformat_minor": 5
}
