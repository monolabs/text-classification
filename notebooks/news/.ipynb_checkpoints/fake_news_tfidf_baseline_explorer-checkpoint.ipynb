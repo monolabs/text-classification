{
 "cells": [
  {
   "cell_type": "code",
   "execution_count": 1,
   "id": "4082b83c",
   "metadata": {},
   "outputs": [],
   "source": [
    "import os\n",
    "os.chdir(os.getcwd() + '/../../')"
   ]
  },
  {
   "cell_type": "code",
   "execution_count": 2,
   "id": "c186f53a",
   "metadata": {},
   "outputs": [
    {
     "name": "stderr",
     "output_type": "stream",
     "text": [
      "[nltk_data] Downloading package averaged_perceptron_tagger to\n",
      "[nltk_data]     C:\\Users\\PendragonS\\AppData\\Roaming\\nltk_data...\n",
      "[nltk_data]   Package averaged_perceptron_tagger is already up-to-\n",
      "[nltk_data]       date!\n",
      "[nltk_data] Downloading package punkt to\n",
      "[nltk_data]     C:\\Users\\PendragonS\\AppData\\Roaming\\nltk_data...\n",
      "[nltk_data]   Package punkt is already up-to-date!\n"
     ]
    }
   ],
   "source": [
    "import pandas as pd\n",
    "import numpy as np\n",
    "import re\n",
    "\n",
    "from sklearn.model_selection import train_test_split\n",
    "from sklearn.feature_extraction.text import TfidfVectorizer\n",
    "from sklearn.linear_model import LogisticRegression\n",
    "from sklearn.svm import LinearSVC, SVC\n",
    "from sklearn.metrics import confusion_matrix\n",
    "\n",
    "from scripts.utils import *"
   ]
  },
  {
   "cell_type": "code",
   "execution_count": 3,
   "id": "0cca431c",
   "metadata": {},
   "outputs": [
    {
     "data": {
      "text/html": [
       "<div>\n",
       "<style scoped>\n",
       "    .dataframe tbody tr th:only-of-type {\n",
       "        vertical-align: middle;\n",
       "    }\n",
       "\n",
       "    .dataframe tbody tr th {\n",
       "        vertical-align: top;\n",
       "    }\n",
       "\n",
       "    .dataframe thead th {\n",
       "        text-align: right;\n",
       "    }\n",
       "</style>\n",
       "<table border=\"1\" class=\"dataframe\">\n",
       "  <thead>\n",
       "    <tr style=\"text-align: right;\">\n",
       "      <th></th>\n",
       "      <th>title</th>\n",
       "      <th>text</th>\n",
       "      <th>label</th>\n",
       "    </tr>\n",
       "  </thead>\n",
       "  <tbody>\n",
       "    <tr>\n",
       "      <th>0</th>\n",
       "      <td>a you.s . budget fight loom , republican flip ...</td>\n",
       "      <td>the head of a conservative republican faction...</td>\n",
       "      <td>0</td>\n",
       "    </tr>\n",
       "    <tr>\n",
       "      <th>1</th>\n",
       "      <td>you.s . military to accept transgender recruit...</td>\n",
       "      <td>transgender people will be allow for the firs...</td>\n",
       "      <td>0</td>\n",
       "    </tr>\n",
       "    <tr>\n",
       "      <th>2</th>\n",
       "      <td>senior you.s . republican senator : 'let mr. m...</td>\n",
       "      <td>the special counsel investigation of link bet...</td>\n",
       "      <td>0</td>\n",
       "    </tr>\n",
       "    <tr>\n",
       "      <th>3</th>\n",
       "      <td>fbi russia probe help by australian diplomat t...</td>\n",
       "      <td>trump campaign adviser george papadopoulos te...</td>\n",
       "      <td>0</td>\n",
       "    </tr>\n",
       "    <tr>\n",
       "      <th>4</th>\n",
       "      <td>trump want postal service to charge 'much more...</td>\n",
       "      <td>president donald trump call on the you.s . po...</td>\n",
       "      <td>0</td>\n",
       "    </tr>\n",
       "  </tbody>\n",
       "</table>\n",
       "</div>"
      ],
      "text/plain": [
       "                                               title  \\\n",
       "0  a you.s . budget fight loom , republican flip ...   \n",
       "1  you.s . military to accept transgender recruit...   \n",
       "2  senior you.s . republican senator : 'let mr. m...   \n",
       "3  fbi russia probe help by australian diplomat t...   \n",
       "4  trump want postal service to charge 'much more...   \n",
       "\n",
       "                                                text  label  \n",
       "0   the head of a conservative republican faction...      0  \n",
       "1   transgender people will be allow for the firs...      0  \n",
       "2   the special counsel investigation of link bet...      0  \n",
       "3   trump campaign adviser george papadopoulos te...      0  \n",
       "4   president donald trump call on the you.s . po...      0  "
      ]
     },
     "execution_count": 3,
     "metadata": {},
     "output_type": "execute_result"
    }
   ],
   "source": [
    "news = pd.read_csv('data/news/preprocessed_news.csv', index_col=0)\n",
    "news = news.dropna()\n",
    "news.head()"
   ]
  },
  {
   "cell_type": "code",
   "execution_count": 4,
   "id": "0e449937",
   "metadata": {},
   "outputs": [],
   "source": [
    "# vectorization\n",
    "vectorizer = TfidfVectorizer()\n",
    "X = vectorizer.fit_transform(news['text'])\n",
    "y = news['label']\n",
    "\n",
    "# train test split\n",
    "X_train, X_test, y_train, y_test = train_test_split(X, y, test_size=0.2, stratify=y, random_state=0)"
   ]
  },
  {
   "cell_type": "code",
   "execution_count": 5,
   "id": "cdad6f65",
   "metadata": {},
   "outputs": [],
   "source": [
    "model = LogisticRegression(max_iter=10000).fit(X_train, y_train)\n",
    "y_hat = model.predict(X_test)\n",
    "probs = model.predict_proba(X_test)"
   ]
  },
  {
   "cell_type": "code",
   "execution_count": 7,
   "id": "9b1073f5",
   "metadata": {},
   "outputs": [],
   "source": [
    "# train test split\n",
    "text_train, text_test, y_train, y_test = train_test_split(news['text'], news['label'], \n",
    "                                                          test_size=0.2, stratify=news['label'], random_state=0)"
   ]
  },
  {
   "cell_type": "code",
   "execution_count": 14,
   "id": "f62d57c9",
   "metadata": {},
   "outputs": [
    {
     "data": {
      "text/html": [
       "<div>\n",
       "<style scoped>\n",
       "    .dataframe tbody tr th:only-of-type {\n",
       "        vertical-align: middle;\n",
       "    }\n",
       "\n",
       "    .dataframe tbody tr th {\n",
       "        vertical-align: top;\n",
       "    }\n",
       "\n",
       "    .dataframe thead th {\n",
       "        text-align: right;\n",
       "    }\n",
       "</style>\n",
       "<table border=\"1\" class=\"dataframe\">\n",
       "  <thead>\n",
       "    <tr style=\"text-align: right;\">\n",
       "      <th></th>\n",
       "      <th>text</th>\n",
       "      <th>label</th>\n",
       "      <th>pred</th>\n",
       "      <th>prob_0</th>\n",
       "      <th>prob_1</th>\n",
       "    </tr>\n",
       "  </thead>\n",
       "  <tbody>\n",
       "    <tr>\n",
       "      <th>21952</th>\n",
       "      <td>with the trumpcare vote come up tomorrow , the...</td>\n",
       "      <td>1</td>\n",
       "      <td>1</td>\n",
       "      <td>0.023836</td>\n",
       "      <td>0.976164</td>\n",
       "    </tr>\n",
       "    <tr>\n",
       "      <th>19084</th>\n",
       "      <td>turkey appeal to northern iraq s kurdish regi...</td>\n",
       "      <td>0</td>\n",
       "      <td>0</td>\n",
       "      <td>0.997264</td>\n",
       "      <td>0.002736</td>\n",
       "    </tr>\n",
       "    <tr>\n",
       "      <th>25814</th>\n",
       "      <td>respected forensic pathologist and neuropathol...</td>\n",
       "      <td>1</td>\n",
       "      <td>1</td>\n",
       "      <td>0.076531</td>\n",
       "      <td>0.923469</td>\n",
       "    </tr>\n",
       "    <tr>\n",
       "      <th>13011</th>\n",
       "      <td>egyptian security force kill five suspected m...</td>\n",
       "      <td>0</td>\n",
       "      <td>0</td>\n",
       "      <td>0.995449</td>\n",
       "      <td>0.004551</td>\n",
       "    </tr>\n",
       "    <tr>\n",
       "      <th>19335</th>\n",
       "      <td>south sudan s hellish war will get bad if it ...</td>\n",
       "      <td>0</td>\n",
       "      <td>0</td>\n",
       "      <td>0.974674</td>\n",
       "      <td>0.025326</td>\n",
       "    </tr>\n",
       "  </tbody>\n",
       "</table>\n",
       "</div>"
      ],
      "text/plain": [
       "                                                    text  label  pred  \\\n",
       "21952  with the trumpcare vote come up tomorrow , the...      1     1   \n",
       "19084   turkey appeal to northern iraq s kurdish regi...      0     0   \n",
       "25814  respected forensic pathologist and neuropathol...      1     1   \n",
       "13011   egyptian security force kill five suspected m...      0     0   \n",
       "19335   south sudan s hellish war will get bad if it ...      0     0   \n",
       "\n",
       "         prob_0    prob_1  \n",
       "21952  0.023836  0.976164  \n",
       "19084  0.997264  0.002736  \n",
       "25814  0.076531  0.923469  \n",
       "13011  0.995449  0.004551  \n",
       "19335  0.974674  0.025326  "
      ]
     },
     "execution_count": 14,
     "metadata": {},
     "output_type": "execute_result"
    }
   ],
   "source": [
    "miss = pd.DataFrame()\n",
    "miss['text'] = text_test\n",
    "miss['label'] = y_test\n",
    "miss['pred'] = y_hat\n",
    "miss[['prob_0', 'prob_1']] = probs\n",
    "\n",
    "miss.head()"
   ]
  },
  {
   "cell_type": "code",
   "execution_count": 15,
   "id": "2ed67f8c",
   "metadata": {},
   "outputs": [],
   "source": [
    "miss[miss['label'] != miss['pred']].to_csv('data/news/missclassified.csv')"
   ]
  },
  {
   "cell_type": "code",
   "execution_count": null,
   "id": "b6902ef9",
   "metadata": {},
   "outputs": [],
   "source": []
  }
 ],
 "metadata": {
  "kernelspec": {
   "display_name": "Python (final)",
   "language": "python",
   "name": "final"
  },
  "language_info": {
   "codemirror_mode": {
    "name": "ipython",
    "version": 3
   },
   "file_extension": ".py",
   "mimetype": "text/x-python",
   "name": "python",
   "nbconvert_exporter": "python",
   "pygments_lexer": "ipython3",
   "version": "3.9.5"
  }
 },
 "nbformat": 4,
 "nbformat_minor": 5
}
