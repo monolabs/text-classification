{
 "cells": [
  {
   "cell_type": "code",
   "execution_count": 1,
   "id": "76a86456",
   "metadata": {},
   "outputs": [],
   "source": [
    "import os\n",
    "os.chdir(os.getcwd() + '/../../')"
   ]
  },
  {
   "cell_type": "code",
   "execution_count": 2,
   "id": "2fc0d054",
   "metadata": {},
   "outputs": [
    {
     "name": "stderr",
     "output_type": "stream",
     "text": [
      "[nltk_data] Downloading package averaged_perceptron_tagger to\n",
      "[nltk_data]     C:\\Users\\PendragonS\\AppData\\Roaming\\nltk_data...\n",
      "[nltk_data]   Package averaged_perceptron_tagger is already up-to-\n",
      "[nltk_data]       date!\n",
      "[nltk_data] Downloading package punkt to\n",
      "[nltk_data]     C:\\Users\\PendragonS\\AppData\\Roaming\\nltk_data...\n",
      "[nltk_data]   Package punkt is already up-to-date!\n"
     ]
    }
   ],
   "source": [
    "import pandas as pd\n",
    "import contractions\n",
    "import re\n",
    "\n",
    "from scripts.utils import *"
   ]
  },
  {
   "cell_type": "markdown",
   "id": "aec88cad",
   "metadata": {},
   "source": [
    "# Fake News Detection"
   ]
  },
  {
   "cell_type": "markdown",
   "id": "8d7e1e6a",
   "metadata": {},
   "source": [
    "## 1. Preprocessing"
   ]
  },
  {
   "cell_type": "code",
   "execution_count": 3,
   "id": "17a2f2dd",
   "metadata": {},
   "outputs": [
    {
     "data": {
      "text/html": [
       "<div>\n",
       "<style scoped>\n",
       "    .dataframe tbody tr th:only-of-type {\n",
       "        vertical-align: middle;\n",
       "    }\n",
       "\n",
       "    .dataframe tbody tr th {\n",
       "        vertical-align: top;\n",
       "    }\n",
       "\n",
       "    .dataframe thead th {\n",
       "        text-align: right;\n",
       "    }\n",
       "</style>\n",
       "<table border=\"1\" class=\"dataframe\">\n",
       "  <thead>\n",
       "    <tr style=\"text-align: right;\">\n",
       "      <th></th>\n",
       "      <th>title</th>\n",
       "      <th>text</th>\n",
       "      <th>label</th>\n",
       "    </tr>\n",
       "  </thead>\n",
       "  <tbody>\n",
       "    <tr>\n",
       "      <th>0</th>\n",
       "      <td>As U.S. budget fight looms, Republicans flip t...</td>\n",
       "      <td>WASHINGTON (Reuters) - The head of a conservat...</td>\n",
       "      <td>0</td>\n",
       "    </tr>\n",
       "    <tr>\n",
       "      <th>1</th>\n",
       "      <td>U.S. military to accept transgender recruits o...</td>\n",
       "      <td>WASHINGTON (Reuters) - Transgender people will...</td>\n",
       "      <td>0</td>\n",
       "    </tr>\n",
       "    <tr>\n",
       "      <th>2</th>\n",
       "      <td>Senior U.S. Republican senator: 'Let Mr. Muell...</td>\n",
       "      <td>WASHINGTON (Reuters) - The special counsel inv...</td>\n",
       "      <td>0</td>\n",
       "    </tr>\n",
       "    <tr>\n",
       "      <th>3</th>\n",
       "      <td>FBI Russia probe helped by Australian diplomat...</td>\n",
       "      <td>WASHINGTON (Reuters) - Trump campaign adviser ...</td>\n",
       "      <td>0</td>\n",
       "    </tr>\n",
       "    <tr>\n",
       "      <th>4</th>\n",
       "      <td>Trump wants Postal Service to charge 'much mor...</td>\n",
       "      <td>SEATTLE/WASHINGTON (Reuters) - President Donal...</td>\n",
       "      <td>0</td>\n",
       "    </tr>\n",
       "  </tbody>\n",
       "</table>\n",
       "</div>"
      ],
      "text/plain": [
       "                                               title  \\\n",
       "0  As U.S. budget fight looms, Republicans flip t...   \n",
       "1  U.S. military to accept transgender recruits o...   \n",
       "2  Senior U.S. Republican senator: 'Let Mr. Muell...   \n",
       "3  FBI Russia probe helped by Australian diplomat...   \n",
       "4  Trump wants Postal Service to charge 'much mor...   \n",
       "\n",
       "                                                text  label  \n",
       "0  WASHINGTON (Reuters) - The head of a conservat...      0  \n",
       "1  WASHINGTON (Reuters) - Transgender people will...      0  \n",
       "2  WASHINGTON (Reuters) - The special counsel inv...      0  \n",
       "3  WASHINGTON (Reuters) - Trump campaign adviser ...      0  \n",
       "4  SEATTLE/WASHINGTON (Reuters) - President Donal...      0  "
      ]
     },
     "execution_count": 3,
     "metadata": {},
     "output_type": "execute_result"
    }
   ],
   "source": [
    "true = pd.read_csv('data/news/True.csv', usecols=['title', 'text'])\n",
    "true['label'] = 0\n",
    "true.head()"
   ]
  },
  {
   "cell_type": "code",
   "execution_count": 4,
   "id": "4a43ab2a",
   "metadata": {},
   "outputs": [
    {
     "data": {
      "text/html": [
       "<div>\n",
       "<style scoped>\n",
       "    .dataframe tbody tr th:only-of-type {\n",
       "        vertical-align: middle;\n",
       "    }\n",
       "\n",
       "    .dataframe tbody tr th {\n",
       "        vertical-align: top;\n",
       "    }\n",
       "\n",
       "    .dataframe thead th {\n",
       "        text-align: right;\n",
       "    }\n",
       "</style>\n",
       "<table border=\"1\" class=\"dataframe\">\n",
       "  <thead>\n",
       "    <tr style=\"text-align: right;\">\n",
       "      <th></th>\n",
       "      <th>title</th>\n",
       "      <th>text</th>\n",
       "      <th>label</th>\n",
       "    </tr>\n",
       "  </thead>\n",
       "  <tbody>\n",
       "    <tr>\n",
       "      <th>0</th>\n",
       "      <td>Donald Trump Sends Out Embarrassing New Year’...</td>\n",
       "      <td>Donald Trump just couldn t wish all Americans ...</td>\n",
       "      <td>1</td>\n",
       "    </tr>\n",
       "    <tr>\n",
       "      <th>1</th>\n",
       "      <td>Drunk Bragging Trump Staffer Started Russian ...</td>\n",
       "      <td>House Intelligence Committee Chairman Devin Nu...</td>\n",
       "      <td>1</td>\n",
       "    </tr>\n",
       "    <tr>\n",
       "      <th>2</th>\n",
       "      <td>Sheriff David Clarke Becomes An Internet Joke...</td>\n",
       "      <td>On Friday, it was revealed that former Milwauk...</td>\n",
       "      <td>1</td>\n",
       "    </tr>\n",
       "    <tr>\n",
       "      <th>3</th>\n",
       "      <td>Trump Is So Obsessed He Even Has Obama’s Name...</td>\n",
       "      <td>On Christmas day, Donald Trump announced that ...</td>\n",
       "      <td>1</td>\n",
       "    </tr>\n",
       "    <tr>\n",
       "      <th>4</th>\n",
       "      <td>Pope Francis Just Called Out Donald Trump Dur...</td>\n",
       "      <td>Pope Francis used his annual Christmas Day mes...</td>\n",
       "      <td>1</td>\n",
       "    </tr>\n",
       "  </tbody>\n",
       "</table>\n",
       "</div>"
      ],
      "text/plain": [
       "                                               title  \\\n",
       "0   Donald Trump Sends Out Embarrassing New Year’...   \n",
       "1   Drunk Bragging Trump Staffer Started Russian ...   \n",
       "2   Sheriff David Clarke Becomes An Internet Joke...   \n",
       "3   Trump Is So Obsessed He Even Has Obama’s Name...   \n",
       "4   Pope Francis Just Called Out Donald Trump Dur...   \n",
       "\n",
       "                                                text  label  \n",
       "0  Donald Trump just couldn t wish all Americans ...      1  \n",
       "1  House Intelligence Committee Chairman Devin Nu...      1  \n",
       "2  On Friday, it was revealed that former Milwauk...      1  \n",
       "3  On Christmas day, Donald Trump announced that ...      1  \n",
       "4  Pope Francis used his annual Christmas Day mes...      1  "
      ]
     },
     "execution_count": 4,
     "metadata": {},
     "output_type": "execute_result"
    }
   ],
   "source": [
    "fake = pd.read_csv('data/news/Fake.csv', usecols=['title', 'text'])\n",
    "fake['label'] = 1\n",
    "fake.head()"
   ]
  },
  {
   "cell_type": "code",
   "execution_count": 5,
   "id": "23fcfa4c",
   "metadata": {},
   "outputs": [],
   "source": [
    "news = pd.concat([true, fake])"
   ]
  },
  {
   "cell_type": "code",
   "execution_count": 6,
   "id": "554b8a50",
   "metadata": {},
   "outputs": [
    {
     "name": "stdout",
     "output_type": "stream",
     "text": [
      "number of documents before NaN removal = 44898\n",
      "number of documents after NaN removal = 44898\n"
     ]
    }
   ],
   "source": [
    "# remove NaN\n",
    "print(f\"number of documents before NaN removal = {len(news)}\")\n",
    "news = news.dropna()\n",
    "print(f\"number of documents after NaN removal = {len(news)}\")"
   ]
  },
  {
   "cell_type": "code",
   "execution_count": 7,
   "id": "ab23fc63",
   "metadata": {},
   "outputs": [
    {
     "name": "stdout",
     "output_type": "stream",
     "text": [
      "number of documents before duplicates removal = 44898\n",
      "number of documents after duplicates removal = 39105\n"
     ]
    }
   ],
   "source": [
    "# remove duplicates\n",
    "print(f\"number of documents before duplicates removal = {len(news)}\")\n",
    "news = news.drop_duplicates()\n",
    "print(f\"number of documents after duplicates removal = {len(news)}\")"
   ]
  },
  {
   "cell_type": "code",
   "execution_count": 8,
   "id": "5b23f762",
   "metadata": {},
   "outputs": [],
   "source": [
    "# reset index\n",
    "news = news.reset_index(drop=True)"
   ]
  },
  {
   "cell_type": "code",
   "execution_count": 9,
   "id": "fdc2aa53",
   "metadata": {},
   "outputs": [
    {
     "data": {
      "text/html": [
       "<div>\n",
       "<style scoped>\n",
       "    .dataframe tbody tr th:only-of-type {\n",
       "        vertical-align: middle;\n",
       "    }\n",
       "\n",
       "    .dataframe tbody tr th {\n",
       "        vertical-align: top;\n",
       "    }\n",
       "\n",
       "    .dataframe thead th {\n",
       "        text-align: right;\n",
       "    }\n",
       "</style>\n",
       "<table border=\"1\" class=\"dataframe\">\n",
       "  <thead>\n",
       "    <tr style=\"text-align: right;\">\n",
       "      <th></th>\n",
       "      <th>title</th>\n",
       "      <th>text</th>\n",
       "      <th>label</th>\n",
       "    </tr>\n",
       "  </thead>\n",
       "  <tbody>\n",
       "    <tr>\n",
       "      <th>0</th>\n",
       "      <td>a you.s . budget fight loom , republican flip ...</td>\n",
       "      <td>washington ( reuters ) - the head of a conserv...</td>\n",
       "      <td>0</td>\n",
       "    </tr>\n",
       "    <tr>\n",
       "      <th>1</th>\n",
       "      <td>you.s . military to accept transgender recruit...</td>\n",
       "      <td>washington ( reuters ) - transgender people wi...</td>\n",
       "      <td>0</td>\n",
       "    </tr>\n",
       "    <tr>\n",
       "      <th>2</th>\n",
       "      <td>senior you.s . republican senator : 'let mr. m...</td>\n",
       "      <td>washington ( reuters ) - the special counsel i...</td>\n",
       "      <td>0</td>\n",
       "    </tr>\n",
       "    <tr>\n",
       "      <th>3</th>\n",
       "      <td>fbi russia probe help by australian diplomat t...</td>\n",
       "      <td>washington ( reuters ) - trump campaign advise...</td>\n",
       "      <td>0</td>\n",
       "    </tr>\n",
       "    <tr>\n",
       "      <th>4</th>\n",
       "      <td>trump want postal service to charge 'much more...</td>\n",
       "      <td>seattle/washington ( reuters ) - president don...</td>\n",
       "      <td>0</td>\n",
       "    </tr>\n",
       "  </tbody>\n",
       "</table>\n",
       "</div>"
      ],
      "text/plain": [
       "                                               title  \\\n",
       "0  a you.s . budget fight loom , republican flip ...   \n",
       "1  you.s . military to accept transgender recruit...   \n",
       "2  senior you.s . republican senator : 'let mr. m...   \n",
       "3  fbi russia probe help by australian diplomat t...   \n",
       "4  trump want postal service to charge 'much more...   \n",
       "\n",
       "                                                text  label  \n",
       "0  washington ( reuters ) - the head of a conserv...      0  \n",
       "1  washington ( reuters ) - transgender people wi...      0  \n",
       "2  washington ( reuters ) - the special counsel i...      0  \n",
       "3  washington ( reuters ) - trump campaign advise...      0  \n",
       "4  seattle/washington ( reuters ) - president don...      0  "
      ]
     },
     "execution_count": 9,
     "metadata": {},
     "output_type": "execute_result"
    }
   ],
   "source": [
    "preprocessed_news = pd.DataFrame()\n",
    "\n",
    "preprocessed_news['title'] = news['title'].apply(preprocess_document)\n",
    "preprocessed_news['text'] = news['text'].apply(preprocess_document)\n",
    "preprocessed_news['label'] = news['label']\n",
    "\n",
    "preprocessed_news.head()"
   ]
  },
  {
   "cell_type": "code",
   "execution_count": 10,
   "id": "ba7efa5c",
   "metadata": {},
   "outputs": [
    {
     "data": {
      "text/html": [
       "<div>\n",
       "<style scoped>\n",
       "    .dataframe tbody tr th:only-of-type {\n",
       "        vertical-align: middle;\n",
       "    }\n",
       "\n",
       "    .dataframe tbody tr th {\n",
       "        vertical-align: top;\n",
       "    }\n",
       "\n",
       "    .dataframe thead th {\n",
       "        text-align: right;\n",
       "    }\n",
       "</style>\n",
       "<table border=\"1\" class=\"dataframe\">\n",
       "  <thead>\n",
       "    <tr style=\"text-align: right;\">\n",
       "      <th></th>\n",
       "      <th>title</th>\n",
       "      <th>text</th>\n",
       "      <th>label</th>\n",
       "    </tr>\n",
       "  </thead>\n",
       "  <tbody>\n",
       "    <tr>\n",
       "      <th>0</th>\n",
       "      <td>a you.s . budget fight loom , republican flip ...</td>\n",
       "      <td>the head of a conservative republican faction...</td>\n",
       "      <td>0</td>\n",
       "    </tr>\n",
       "    <tr>\n",
       "      <th>1</th>\n",
       "      <td>you.s . military to accept transgender recruit...</td>\n",
       "      <td>transgender people will be allow for the firs...</td>\n",
       "      <td>0</td>\n",
       "    </tr>\n",
       "    <tr>\n",
       "      <th>2</th>\n",
       "      <td>senior you.s . republican senator : 'let mr. m...</td>\n",
       "      <td>the special counsel investigation of link bet...</td>\n",
       "      <td>0</td>\n",
       "    </tr>\n",
       "    <tr>\n",
       "      <th>3</th>\n",
       "      <td>fbi russia probe help by australian diplomat t...</td>\n",
       "      <td>trump campaign adviser george papadopoulos te...</td>\n",
       "      <td>0</td>\n",
       "    </tr>\n",
       "    <tr>\n",
       "      <th>4</th>\n",
       "      <td>trump want postal service to charge 'much more...</td>\n",
       "      <td>president donald trump call on the you.s . po...</td>\n",
       "      <td>0</td>\n",
       "    </tr>\n",
       "  </tbody>\n",
       "</table>\n",
       "</div>"
      ],
      "text/plain": [
       "                                               title  \\\n",
       "0  a you.s . budget fight loom , republican flip ...   \n",
       "1  you.s . military to accept transgender recruit...   \n",
       "2  senior you.s . republican senator : 'let mr. m...   \n",
       "3  fbi russia probe help by australian diplomat t...   \n",
       "4  trump want postal service to charge 'much more...   \n",
       "\n",
       "                                                text  label  \n",
       "0   the head of a conservative republican faction...      0  \n",
       "1   transgender people will be allow for the firs...      0  \n",
       "2   the special counsel investigation of link bet...      0  \n",
       "3   trump campaign adviser george papadopoulos te...      0  \n",
       "4   president donald trump call on the you.s . po...      0  "
      ]
     },
     "execution_count": 10,
     "metadata": {},
     "output_type": "execute_result"
    }
   ],
   "source": [
    "# remove sources\n",
    "pattern = re.compile(r'.*?-')\n",
    "preprocessed_news['text'] = preprocessed_news['text'].str.replace(pattern, '', n=1)\n",
    "\n",
    "preprocessed_news.head()"
   ]
  },
  {
   "cell_type": "code",
   "execution_count": 11,
   "id": "a38a552d",
   "metadata": {},
   "outputs": [],
   "source": [
    "# save data\n",
    "preprocessed_news.to_csv('data/news/preprocessed_news.csv')"
   ]
  }
 ],
 "metadata": {
  "kernelspec": {
   "display_name": "Python (final)",
   "language": "python",
   "name": "final"
  },
  "language_info": {
   "codemirror_mode": {
    "name": "ipython",
    "version": 3
   },
   "file_extension": ".py",
   "mimetype": "text/x-python",
   "name": "python",
   "nbconvert_exporter": "python",
   "pygments_lexer": "ipython3",
   "version": "3.9.5"
  }
 },
 "nbformat": 4,
 "nbformat_minor": 5
}
